{
  "cells": [
    {
      "cell_type": "markdown",
      "metadata": {
        "id": "XbAlFOuhatdK"
      },
      "source": [
        "# Comparative study of Centrality based Adversarial Attacks on GCN model for Node classification"
      ]
    },
    {
      "cell_type": "markdown",
      "source": [
        "##Importing modules"
      ],
      "metadata": {
        "id": "t6n_fRXKt2BA"
      }
    },
    {
      "cell_type": "code",
      "execution_count": 324,
      "metadata": {
        "id": "aa6PB69hatdV"
      },
      "outputs": [],
      "source": [
        "import sys\n",
        "if 'google.colab' in sys.modules:\n",
        "  %pip install -q stellargraph[demos]==1.2.1"
      ]
    },
    {
      "cell_type": "code",
      "execution_count": 325,
      "metadata": {
        "id": "birP1qv-atdX"
      },
      "outputs": [],
      "source": [
        "import stellargraph as sg\n",
        "\n",
        "try:\n",
        "    sg.utils.validate_notebook_version(\"1.2.1\")\n",
        "except AttributeError:\n",
        "    raise ValueError(\n",
        "        f\"This notebook requires StellarGraph version 1.2.1, but a different version {sg.__version__} is installed.  Please see <https://github.com/stellargraph/stellargraph/issues/1172>.\"\n",
        "    ) from None"
      ]
    },
    {
      "cell_type": "code",
      "execution_count": 326,
      "metadata": {
        "id": "nZdY58oUatdY"
      },
      "outputs": [],
      "source": [
        "import pandas as pd\n",
        "import os\n",
        "\n",
        "import networkx as nx\n",
        "\n",
        "import stellargraph as sg\n",
        "from stellargraph.mapper import FullBatchNodeGenerator\n",
        "from stellargraph.layer import GCN\n",
        "from stellargraph import StellarGraph\n",
        "from tensorflow.keras import layers, optimizers, losses, metrics, Model\n",
        "from sklearn import preprocessing, model_selection\n",
        "from IPython.display import display, HTML\n",
        "import matplotlib.pyplot as plt\n",
        "from tensorflow import keras\n",
        "from sklearn.metrics import confusion_matrix\n",
        "%matplotlib inline"
      ]
    },
    {
      "cell_type": "code",
      "execution_count": 327,
      "metadata": {
        "colab": {
          "base_uri": "https://localhost:8080/"
        },
        "id": "cmmVuQpUZ8lG",
        "outputId": "ac5e21e5-9d93-4914-95e7-084527d82d80"
      },
      "outputs": [
        {
          "output_type": "stream",
          "name": "stdout",
          "text": [
            "(5429, 2)\n"
          ]
        }
      ],
      "source": [
        "zip_file = keras.utils.get_file(\n",
        "    fname=\"cora.tgz\",\n",
        "    origin=\"https://linqs-data.soe.ucsc.edu/public/lbc/cora.tgz\",\n",
        "    extract=True,\n",
        ")\n",
        "data_dir = os.path.join(os.path.dirname(zip_file), \"cora\")\n",
        "\n",
        "citations = pd.read_csv(\n",
        "    os.path.join(data_dir, \"cora.cites\"),\n",
        "    sep=\"\\t\",\n",
        "    header=None,\n",
        "    names=[\"target\", \"source\"],\n",
        ")\n",
        "\n",
        "print(citations.shape)"
      ]
    },
    {
      "cell_type": "code",
      "execution_count": 328,
      "metadata": {
        "id": "HfvqFcIiUYzG"
      },
      "outputs": [],
      "source": [
        "G = nx.from_pandas_edgelist(citations, \"source\", \"target\", create_using=nx.Graph())"
      ]
    },
    {
      "cell_type": "code",
      "execution_count": 329,
      "metadata": {
        "colab": {
          "base_uri": "https://localhost:8080/"
        },
        "id": "mPqtikEzak8Y",
        "outputId": "aedd56f8-0468-454f-abfb-2b16a059d9af"
      },
      "outputs": [
        {
          "output_type": "stream",
          "name": "stdout",
          "text": [
            "[3217, 35, 62389, 10796, 628667, 16437, 575292, 14429, 16008, 18777, 137868, 54131, 22835, 63915, 5348, 634938, 10177, 132821, 95594, 6385, 27543, 6818, 126926, 46491, 189708, 31479, 20534, 141160, 6213, 89547, 15984, 2440, 114, 8696, 116084, 3191, 6125, 644577, 94639, 29492, 561789, 31863, 75121, 7532, 20601, 910, 6214]\n"
          ]
        }
      ],
      "source": [
        "nodes_2_attack = list(citations.sample(n=50,random_state=1).drop_duplicates(subset=[\"target\"])['target'])\n",
        "\n",
        "print(nodes_2_attack)"
      ]
    },
    {
      "cell_type": "markdown",
      "source": [
        "## Adversarial Attack"
      ],
      "metadata": {
        "id": "cM2oUlGy3h0g"
      }
    },
    {
      "cell_type": "markdown",
      "source": [
        "### Defining centrality measure"
      ],
      "metadata": {
        "id": "vCxUgHBp_6bj"
      }
    },
    {
      "cell_type": "markdown",
      "source": [
        "Below are the four centrality measures used to carry out the adversarial attacks, as well as the code for the attacks themselves. To carry out an attack the required centrality measure and attack have to be uncommented and run."
      ],
      "metadata": {
        "id": "lWafcmD7CgD4"
      }
    },
    {
      "cell_type": "code",
      "execution_count": 330,
      "metadata": {
        "id": "CtM8wwL_UdXI",
        "colab": {
          "base_uri": "https://localhost:8080/"
        },
        "outputId": "a1c205e6-45c6-47b5-e60d-a8811a0c874b"
      },
      "outputs": [
        {
          "output_type": "stream",
          "name": "stdout",
          "text": [
            "[35, 82920, 85352, 210871, 887, 1688, 12576, 287787, 84021, 35061, 103515, 54131, 41714, 66556, 33907, 575077, 503883, 38205, 69284, 259702, 141342, 273152, 1119708, 513189, 289780, 1154459, 1153280, 1152421, 593091, 1127913, 1153943, 210872, 1114331, 415693, 568857, 289781, 56119, 198653, 801170, 1129683, 634975, 54129, 98698, 307015, 608326, 132806, 787016, 573978, 647447, 44368, 28290, 503893, 640617, 1103960, 579008, 8865, 66563, 1136814, 1129778, 48766, 1153577, 190697, 578780, 135130, 573964, 634904, 634902, 1128453, 289779, 576725, 265203, 78511, 33904, 1130847, 634938, 248425, 97645, 69296, 1112911, 206371, 593260, 190706, 1129573, 1117476, 576795, 1113438, 646809, 197054, 263279, 1129027, 1127430, 574462, 561238, 593813, 1131360, 229635, 1033, 141347, 1153853, 263498]\n"
          ]
        }
      ],
      "source": [
        "global_centrality = 'Eigenvector centrality'\n",
        "e_centrality = nx.eigenvector_centrality(G)\n",
        "\n",
        "e_top_influential = sorted(e_centrality.items(), key=lambda kv:(kv[1], kv[0]), reverse=True)[:100]\n",
        "e_top_influential_nodes = [n[0] for n in e_top_influential]\n",
        "print(e_top_influential_nodes)"
      ]
    },
    {
      "cell_type": "code",
      "source": [
        "# global_centrality = 'Betweenness centrality'\n",
        "# b_centrality = nx.betweenness_centrality(G)\n",
        "# print(b_centrality)\n",
        "# b_top_influential = sorted(b_centrality.items(), key=lambda kv:(kv[1], kv[0]), reverse=True)[:100]\n",
        "# b_top_influential_nodes = [n[0] for n in b_top_influential]\n",
        "# print(b_top_influential_nodes)"
      ],
      "metadata": {
        "id": "G08VOftqHCVH"
      },
      "execution_count": 331,
      "outputs": []
    },
    {
      "cell_type": "code",
      "source": [
        "# global_centrality = 'Degree centrality'\n",
        "# d_centrality = nx.degree_centrality(G)\n",
        "\n",
        "# d_top_influential = sorted(d_centrality.items(), key=lambda kv:(kv[1], kv[0]), reverse=True)[:100]\n",
        "# d_top_influential_nodes = [n[0] for n in d_top_influential]\n",
        "# print(d_top_influential_nodes)"
      ],
      "metadata": {
        "id": "4kUCEWWBHCYv"
      },
      "execution_count": 332,
      "outputs": []
    },
    {
      "cell_type": "code",
      "source": [
        "# global_centrality = 'Closeness centrality'\n",
        "# c_centrality = nx.closeness_centrality(G)\n",
        "\n",
        "# c_top_influential = sorted(c_centrality.items(), key=lambda kv:(kv[1], kv[0]), reverse=True)[:100]\n",
        "# c_top_influential_nodes = [n[0] for n in c_top_influential]\n",
        "# print(c_top_influential_nodes)"
      ],
      "metadata": {
        "id": "Q3j3vkfGIx4Y"
      },
      "execution_count": 333,
      "outputs": []
    },
    {
      "cell_type": "markdown",
      "source": [
        "### Performing the attack"
      ],
      "metadata": {
        "id": "pAOgv1O4__aU"
      }
    },
    {
      "cell_type": "code",
      "source": [
        "global_action = 'Adding ~100 edges'\n",
        "edge_count = 0\n",
        "for n in e_top_influential_nodes:\n",
        "  for m in nodes_2_attack:\n",
        "    if not G.has_edge(n, m):\n",
        "      citations = citations.append({'source': n, 'target': m}, ignore_index = True)\n",
        "      edge_count += 1\n",
        "  if edge_count >= 100:\n",
        "    break\n",
        "print(edge_count)"
      ],
      "metadata": {
        "id": "G6gUUW5FYeE7",
        "colab": {
          "base_uri": "https://localhost:8080/"
        },
        "outputId": "63912731-a4dd-4c7a-d056-fde0a4626ca2"
      },
      "execution_count": 334,
      "outputs": [
        {
          "output_type": "stream",
          "name": "stdout",
          "text": [
            "136\n"
          ]
        }
      ]
    },
    {
      "cell_type": "code",
      "execution_count": 335,
      "metadata": {
        "id": "90u3_6cQq6IS"
      },
      "outputs": [],
      "source": [
        "# global_action = 'Adding ~150 edges'\n",
        "\n",
        "# edge_count = 0\n",
        "\n",
        "# for n in e_top_influential_nodes:\n",
        "#   for m in nodes_2_attack:\n",
        "#     if not G.has_edge(n, m):\n",
        "#       citations = citations.append({'source': n, 'target': m}, ignore_index = True)\n",
        "#       edge_count += 1\n",
        "#   if edge_count >= 150:\n",
        "#     break\n",
        "# print(edge_count)"
      ]
    },
    {
      "cell_type": "code",
      "source": [
        "# global_action = 'Adding ~200 edges'\n",
        "# edge_count = 0\n",
        "# for n in e_top_influential_nodes:\n",
        "#   for m in nodes_2_attack:\n",
        "#     if not G.has_edge(n, m):\n",
        "#       citations = citations.append({'source': n, 'target': m}, ignore_index = True)\n",
        "#       edge_count += 1\n",
        "#   if edge_count >= 200:\n",
        "#     break\n",
        "# print(edge_count)"
      ],
      "metadata": {
        "id": "NagM2FyScTTF"
      },
      "execution_count": 336,
      "outputs": []
    },
    {
      "cell_type": "code",
      "execution_count": 337,
      "metadata": {
        "id": "Zg-P2cCTbfCt"
      },
      "outputs": [],
      "source": [
        "# global_action = 'Deleting ~100 edges'\n",
        "\n",
        "# edge_count = 0\n",
        "# for n in nodes_2_attack:\n",
        "#   if G.has_node(n):\n",
        "#     neighbors = G[n]\n",
        "#     if len(neighbors) < 10:\n",
        "#       citations = citations[(citations.source != n) & (citations.target != n)]\n",
        "#     else:\n",
        "#       neighbor_centralities = {}\n",
        "#       for m in neighbors:\n",
        "#         neighbor_centralities[m] = e_centrality[m]\n",
        "#       neighbor_centralities = sorted(neighbor_centralities.items(), key=lambda kv:(kv[1], kv[0]), reverse=True)\n",
        "#       print(neighbor_centralities)\n",
        "#       top_neighbor_centralities = [n[0] for n in neighbor_centralities][:9]\n",
        "#       for m in top_neighbor_centralities:\n",
        "#         if G.has_edge(m, n):\n",
        "#           citations = citations[~(((citations.source == n) & (citations.target == m)) | ((citations.source == m) & (citations.target == n)))]\n",
        "#           edge_count += 1\n",
        "#       if edge_count >= 100:\n",
        "#         print(edge_count)\n",
        "#         break"
      ]
    },
    {
      "cell_type": "code",
      "source": [
        "# global_action = 'Deleting ~150 edges'\n",
        "\n",
        "# edge_count = 0\n",
        "# for n in nodes_2_attack:\n",
        "#   if G.has_node(n):\n",
        "#     neighbors = G[n]\n",
        "#     if len(neighbors) < 10:\n",
        "#       citations = citations[(citations.source != n) & (citations.target != n)]\n",
        "#     else:\n",
        "#       neighbor_centralities = {}\n",
        "#       for m in neighbors:\n",
        "#         neighbor_centralities[m] = e_centrality[m]\n",
        "#       neighbor_centralities = sorted(neighbor_centralities.items(), key=lambda kv:(kv[1], kv[0]), reverse=True)\n",
        "#       print(neighbor_centralities)\n",
        "#       top_neighbor_centralities = [n[0] for n in neighbor_centralities][:9]\n",
        "#       for m in top_neighbor_centralities:\n",
        "#         if G.has_edge(m, n):\n",
        "#           citations = citations[~(((citations.source == n) & (citations.target == m)) | ((citations.source == m) & (citations.target == n)))]\n",
        "#           edge_count += 1\n",
        "#       if edge_count >= 150:\n",
        "#         break\n",
        "\n",
        "# print(edge_count)"
      ],
      "metadata": {
        "id": "8f0RHNZ-c5sf"
      },
      "execution_count": 338,
      "outputs": []
    },
    {
      "cell_type": "code",
      "source": [
        "# global_action = 'Deleting ~200 edges'\n",
        "\n",
        "# edge_count = 0\n",
        "# for n in nodes_2_attack:\n",
        "#   if G.has_node(n):\n",
        "#     neighbors = G[n]\n",
        "#     if len(neighbors) < 10:\n",
        "#       citations = citations[(citations.source != n) & (citations.target != n)]\n",
        "#     else:\n",
        "#       neighbor_centralities = {}\n",
        "#       for m in neighbors:\n",
        "#         neighbor_centralities[m] = e_centrality[m]\n",
        "#       neighbor_centralities = sorted(neighbor_centralities.items(), key=lambda kv:(kv[1], kv[0]), reverse=True)\n",
        "#       print(neighbor_centralities)\n",
        "#       top_neighbor_centralities = [n[0] for n in neighbor_centralities][:9]\n",
        "#       for m in top_neighbor_centralities:\n",
        "#         if G.has_edge(m, n):\n",
        "#           citations = citations[~(((citations.source == n) & (citations.target == m)) | ((citations.source == m) & (citations.target == n)))]\n",
        "#           edge_count += 1\n",
        "#       if edge_count >= 200:\n",
        "#         break\n",
        "\n",
        "# print(edge_count)"
      ],
      "metadata": {
        "id": "KjujLnmkc8_9"
      },
      "execution_count": 339,
      "outputs": []
    },
    {
      "cell_type": "code",
      "execution_count": 340,
      "metadata": {
        "colab": {
          "base_uri": "https://localhost:8080/"
        },
        "id": "BXkttWHWoEU4",
        "outputId": "bbdde302-2ac6-4187-f6e1-917c08bc08fa"
      },
      "outputs": [
        {
          "output_type": "stream",
          "name": "stdout",
          "text": [
            "(5565, 2)\n"
          ]
        }
      ],
      "source": [
        "print(citations.shape)"
      ]
    },
    {
      "cell_type": "code",
      "execution_count": 341,
      "metadata": {
        "id": "am2cFaPUUfPo"
      },
      "outputs": [],
      "source": [
        "from stellargraph.datasets import Cora\n",
        "\n",
        "cora = Cora()\n",
        "cora.download()\n",
        "\n",
        "cora_content_file = os.path.join(cora.base_directory, \"cora.content\")"
      ]
    },
    {
      "cell_type": "code",
      "execution_count": 342,
      "metadata": {
        "colab": {
          "base_uri": "https://localhost:8080/",
          "height": 235
        },
        "id": "L6QQrwP1Ufwi",
        "outputId": "410ccd78-1175-4431-de22-12e83624a8de"
      },
      "outputs": [
        {
          "output_type": "execute_result",
          "data": {
            "text/plain": [
              "        id  w0  w1  w2  w3  w4  w5  w6  w7  w8  ...  w1424  w1425  w1426  \\\n",
              "0    31336   0   0   0   0   0   0   0   0   0  ...      0      0      1   \n",
              "1  1061127   0   0   0   0   0   0   0   0   0  ...      0      1      0   \n",
              "2  1106406   0   0   0   0   0   0   0   0   0  ...      0      0      0   \n",
              "3    13195   0   0   0   0   0   0   0   0   0  ...      0      0      0   \n",
              "4    37879   0   0   0   0   0   0   0   0   0  ...      0      0      0   \n",
              "\n",
              "   w1427  w1428  w1429  w1430  w1431  w1432                 subject  \n",
              "0      0      0      0      0      0      0         Neural_Networks  \n",
              "1      0      0      0      0      0      0           Rule_Learning  \n",
              "2      0      0      0      0      0      0  Reinforcement_Learning  \n",
              "3      0      0      0      0      0      0  Reinforcement_Learning  \n",
              "4      0      0      0      0      0      0   Probabilistic_Methods  \n",
              "\n",
              "[5 rows x 1435 columns]"
            ],
            "text/html": [
              "\n",
              "  <div id=\"df-17ef4bb4-3b32-468f-bef6-00f4c4bb349d\">\n",
              "    <div class=\"colab-df-container\">\n",
              "      <div>\n",
              "<style scoped>\n",
              "    .dataframe tbody tr th:only-of-type {\n",
              "        vertical-align: middle;\n",
              "    }\n",
              "\n",
              "    .dataframe tbody tr th {\n",
              "        vertical-align: top;\n",
              "    }\n",
              "\n",
              "    .dataframe thead th {\n",
              "        text-align: right;\n",
              "    }\n",
              "</style>\n",
              "<table border=\"1\" class=\"dataframe\">\n",
              "  <thead>\n",
              "    <tr style=\"text-align: right;\">\n",
              "      <th></th>\n",
              "      <th>id</th>\n",
              "      <th>w0</th>\n",
              "      <th>w1</th>\n",
              "      <th>w2</th>\n",
              "      <th>w3</th>\n",
              "      <th>w4</th>\n",
              "      <th>w5</th>\n",
              "      <th>w6</th>\n",
              "      <th>w7</th>\n",
              "      <th>w8</th>\n",
              "      <th>...</th>\n",
              "      <th>w1424</th>\n",
              "      <th>w1425</th>\n",
              "      <th>w1426</th>\n",
              "      <th>w1427</th>\n",
              "      <th>w1428</th>\n",
              "      <th>w1429</th>\n",
              "      <th>w1430</th>\n",
              "      <th>w1431</th>\n",
              "      <th>w1432</th>\n",
              "      <th>subject</th>\n",
              "    </tr>\n",
              "  </thead>\n",
              "  <tbody>\n",
              "    <tr>\n",
              "      <th>0</th>\n",
              "      <td>31336</td>\n",
              "      <td>0</td>\n",
              "      <td>0</td>\n",
              "      <td>0</td>\n",
              "      <td>0</td>\n",
              "      <td>0</td>\n",
              "      <td>0</td>\n",
              "      <td>0</td>\n",
              "      <td>0</td>\n",
              "      <td>0</td>\n",
              "      <td>...</td>\n",
              "      <td>0</td>\n",
              "      <td>0</td>\n",
              "      <td>1</td>\n",
              "      <td>0</td>\n",
              "      <td>0</td>\n",
              "      <td>0</td>\n",
              "      <td>0</td>\n",
              "      <td>0</td>\n",
              "      <td>0</td>\n",
              "      <td>Neural_Networks</td>\n",
              "    </tr>\n",
              "    <tr>\n",
              "      <th>1</th>\n",
              "      <td>1061127</td>\n",
              "      <td>0</td>\n",
              "      <td>0</td>\n",
              "      <td>0</td>\n",
              "      <td>0</td>\n",
              "      <td>0</td>\n",
              "      <td>0</td>\n",
              "      <td>0</td>\n",
              "      <td>0</td>\n",
              "      <td>0</td>\n",
              "      <td>...</td>\n",
              "      <td>0</td>\n",
              "      <td>1</td>\n",
              "      <td>0</td>\n",
              "      <td>0</td>\n",
              "      <td>0</td>\n",
              "      <td>0</td>\n",
              "      <td>0</td>\n",
              "      <td>0</td>\n",
              "      <td>0</td>\n",
              "      <td>Rule_Learning</td>\n",
              "    </tr>\n",
              "    <tr>\n",
              "      <th>2</th>\n",
              "      <td>1106406</td>\n",
              "      <td>0</td>\n",
              "      <td>0</td>\n",
              "      <td>0</td>\n",
              "      <td>0</td>\n",
              "      <td>0</td>\n",
              "      <td>0</td>\n",
              "      <td>0</td>\n",
              "      <td>0</td>\n",
              "      <td>0</td>\n",
              "      <td>...</td>\n",
              "      <td>0</td>\n",
              "      <td>0</td>\n",
              "      <td>0</td>\n",
              "      <td>0</td>\n",
              "      <td>0</td>\n",
              "      <td>0</td>\n",
              "      <td>0</td>\n",
              "      <td>0</td>\n",
              "      <td>0</td>\n",
              "      <td>Reinforcement_Learning</td>\n",
              "    </tr>\n",
              "    <tr>\n",
              "      <th>3</th>\n",
              "      <td>13195</td>\n",
              "      <td>0</td>\n",
              "      <td>0</td>\n",
              "      <td>0</td>\n",
              "      <td>0</td>\n",
              "      <td>0</td>\n",
              "      <td>0</td>\n",
              "      <td>0</td>\n",
              "      <td>0</td>\n",
              "      <td>0</td>\n",
              "      <td>...</td>\n",
              "      <td>0</td>\n",
              "      <td>0</td>\n",
              "      <td>0</td>\n",
              "      <td>0</td>\n",
              "      <td>0</td>\n",
              "      <td>0</td>\n",
              "      <td>0</td>\n",
              "      <td>0</td>\n",
              "      <td>0</td>\n",
              "      <td>Reinforcement_Learning</td>\n",
              "    </tr>\n",
              "    <tr>\n",
              "      <th>4</th>\n",
              "      <td>37879</td>\n",
              "      <td>0</td>\n",
              "      <td>0</td>\n",
              "      <td>0</td>\n",
              "      <td>0</td>\n",
              "      <td>0</td>\n",
              "      <td>0</td>\n",
              "      <td>0</td>\n",
              "      <td>0</td>\n",
              "      <td>0</td>\n",
              "      <td>...</td>\n",
              "      <td>0</td>\n",
              "      <td>0</td>\n",
              "      <td>0</td>\n",
              "      <td>0</td>\n",
              "      <td>0</td>\n",
              "      <td>0</td>\n",
              "      <td>0</td>\n",
              "      <td>0</td>\n",
              "      <td>0</td>\n",
              "      <td>Probabilistic_Methods</td>\n",
              "    </tr>\n",
              "  </tbody>\n",
              "</table>\n",
              "<p>5 rows × 1435 columns</p>\n",
              "</div>\n",
              "      <button class=\"colab-df-convert\" onclick=\"convertToInteractive('df-17ef4bb4-3b32-468f-bef6-00f4c4bb349d')\"\n",
              "              title=\"Convert this dataframe to an interactive table.\"\n",
              "              style=\"display:none;\">\n",
              "        \n",
              "  <svg xmlns=\"http://www.w3.org/2000/svg\" height=\"24px\"viewBox=\"0 0 24 24\"\n",
              "       width=\"24px\">\n",
              "    <path d=\"M0 0h24v24H0V0z\" fill=\"none\"/>\n",
              "    <path d=\"M18.56 5.44l.94 2.06.94-2.06 2.06-.94-2.06-.94-.94-2.06-.94 2.06-2.06.94zm-11 1L8.5 8.5l.94-2.06 2.06-.94-2.06-.94L8.5 2.5l-.94 2.06-2.06.94zm10 10l.94 2.06.94-2.06 2.06-.94-2.06-.94-.94-2.06-.94 2.06-2.06.94z\"/><path d=\"M17.41 7.96l-1.37-1.37c-.4-.4-.92-.59-1.43-.59-.52 0-1.04.2-1.43.59L10.3 9.45l-7.72 7.72c-.78.78-.78 2.05 0 2.83L4 21.41c.39.39.9.59 1.41.59.51 0 1.02-.2 1.41-.59l7.78-7.78 2.81-2.81c.8-.78.8-2.07 0-2.86zM5.41 20L4 18.59l7.72-7.72 1.47 1.35L5.41 20z\"/>\n",
              "  </svg>\n",
              "      </button>\n",
              "      \n",
              "  <style>\n",
              "    .colab-df-container {\n",
              "      display:flex;\n",
              "      flex-wrap:wrap;\n",
              "      gap: 12px;\n",
              "    }\n",
              "\n",
              "    .colab-df-convert {\n",
              "      background-color: #E8F0FE;\n",
              "      border: none;\n",
              "      border-radius: 50%;\n",
              "      cursor: pointer;\n",
              "      display: none;\n",
              "      fill: #1967D2;\n",
              "      height: 32px;\n",
              "      padding: 0 0 0 0;\n",
              "      width: 32px;\n",
              "    }\n",
              "\n",
              "    .colab-df-convert:hover {\n",
              "      background-color: #E2EBFA;\n",
              "      box-shadow: 0px 1px 2px rgba(60, 64, 67, 0.3), 0px 1px 3px 1px rgba(60, 64, 67, 0.15);\n",
              "      fill: #174EA6;\n",
              "    }\n",
              "\n",
              "    [theme=dark] .colab-df-convert {\n",
              "      background-color: #3B4455;\n",
              "      fill: #D2E3FC;\n",
              "    }\n",
              "\n",
              "    [theme=dark] .colab-df-convert:hover {\n",
              "      background-color: #434B5C;\n",
              "      box-shadow: 0px 1px 3px 1px rgba(0, 0, 0, 0.15);\n",
              "      filter: drop-shadow(0px 1px 2px rgba(0, 0, 0, 0.3));\n",
              "      fill: #FFFFFF;\n",
              "    }\n",
              "  </style>\n",
              "\n",
              "      <script>\n",
              "        const buttonEl =\n",
              "          document.querySelector('#df-17ef4bb4-3b32-468f-bef6-00f4c4bb349d button.colab-df-convert');\n",
              "        buttonEl.style.display =\n",
              "          google.colab.kernel.accessAllowed ? 'block' : 'none';\n",
              "\n",
              "        async function convertToInteractive(key) {\n",
              "          const element = document.querySelector('#df-17ef4bb4-3b32-468f-bef6-00f4c4bb349d');\n",
              "          const dataTable =\n",
              "            await google.colab.kernel.invokeFunction('convertToInteractive',\n",
              "                                                     [key], {});\n",
              "          if (!dataTable) return;\n",
              "\n",
              "          const docLinkHtml = 'Like what you see? Visit the ' +\n",
              "            '<a target=\"_blank\" href=https://colab.research.google.com/notebooks/data_table.ipynb>data table notebook</a>'\n",
              "            + ' to learn more about interactive tables.';\n",
              "          element.innerHTML = '';\n",
              "          dataTable['output_type'] = 'display_data';\n",
              "          await google.colab.output.renderOutput(dataTable, element);\n",
              "          const docLink = document.createElement('div');\n",
              "          docLink.innerHTML = docLinkHtml;\n",
              "          element.appendChild(docLink);\n",
              "        }\n",
              "      </script>\n",
              "    </div>\n",
              "  </div>\n",
              "  "
            ]
          },
          "metadata": {},
          "execution_count": 342
        }
      ],
      "source": [
        "cora_feature_names = [f\"w{i}\" for i in range(1433)]\n",
        "\n",
        "cora_raw_content = pd.read_csv(\n",
        "    cora_content_file,\n",
        "    sep=\"\\t\",\n",
        "    header=None,\n",
        "    names=[\"id\", *cora_feature_names, \"subject\"],\n",
        ")\n",
        "cora_raw_content.head(5)"
      ]
    },
    {
      "cell_type": "code",
      "execution_count": 343,
      "metadata": {
        "id": "_rhSjbAZUjYC"
      },
      "outputs": [],
      "source": [
        "cora_content_str_subject = cora_raw_content.set_index(\"id\")\n",
        "cora_content_no_subject = cora_content_str_subject.drop(columns=\"subject\")"
      ]
    },
    {
      "cell_type": "code",
      "execution_count": 344,
      "metadata": {
        "colab": {
          "base_uri": "https://localhost:8080/"
        },
        "id": "HsCVaPtVUjym",
        "outputId": "a60a2ff6-3c34-4ea6-a1f0-f03ceb61a3dc"
      },
      "outputs": [
        {
          "output_type": "stream",
          "name": "stdout",
          "text": [
            "StellarGraph: Undirected multigraph\n",
            " Nodes: 2708, Edges: 5565\n",
            "\n",
            " Node types:\n",
            "  paper: [2708]\n",
            "    Features: float32 vector, length 1433\n",
            "    Edge types: paper-cites->paper\n",
            "\n",
            " Edge types:\n",
            "    paper-cites->paper: [5565]\n",
            "        Weights: all 1 (default)\n",
            "        Features: none\n"
          ]
        }
      ],
      "source": [
        "Graph = StellarGraph({\"paper\": cora_content_no_subject}, {\"cites\": citations})\n",
        "print(Graph.info())"
      ]
    },
    {
      "cell_type": "markdown",
      "metadata": {
        "id": "uexqdwqNatdZ"
      },
      "source": [
        "## Data Preparation"
      ]
    },
    {
      "cell_type": "markdown",
      "source": [
        "### Loading the CORA network"
      ],
      "metadata": {
        "id": "hpEBCbCbCRI7"
      }
    },
    {
      "cell_type": "code",
      "execution_count": 345,
      "metadata": {
        "colab": {
          "base_uri": "https://localhost:8080/",
          "height": 266
        },
        "id": "eMdh_r-Jatdb",
        "outputId": "e905970f-20d4-4328-dbaa-b92396660d4f"
      },
      "outputs": [
        {
          "output_type": "display_data",
          "data": {
            "text/plain": [
              "<IPython.core.display.HTML object>"
            ],
            "text/html": [
              "The Cora dataset consists of 2708 scientific publications classified into one of seven classes. The citation network consists of 5429 links. Each publication in the dataset is described by a 0/1-valued word vector indicating the absence/presence of the corresponding word from the dictionary. The dictionary consists of 1433 unique words."
            ]
          },
          "metadata": {}
        },
        {
          "output_type": "stream",
          "name": "stdout",
          "text": [
            "31336             Neural_Networks\n",
            "1061127             Rule_Learning\n",
            "1106406    Reinforcement_Learning\n",
            "13195      Reinforcement_Learning\n",
            "37879       Probabilistic_Methods\n",
            "                    ...          \n",
            "1128975        Genetic_Algorithms\n",
            "1128977        Genetic_Algorithms\n",
            "1128978        Genetic_Algorithms\n",
            "117328                 Case_Based\n",
            "24043             Neural_Networks\n",
            "Name: subject, Length: 2708, dtype: object\n"
          ]
        }
      ],
      "source": [
        "dataset = sg.datasets.Cora()  \n",
        "display(HTML(dataset.description))\n",
        "G, node_subjects = dataset.load()\n",
        "print(node_subjects)"
      ]
    },
    {
      "cell_type": "code",
      "execution_count": 346,
      "metadata": {
        "colab": {
          "base_uri": "https://localhost:8080/",
          "height": 269
        },
        "id": "-7g4kLSratdd",
        "outputId": "46a8e170-7eba-449c-d72b-93dace8c809a"
      },
      "outputs": [
        {
          "output_type": "execute_result",
          "data": {
            "text/plain": [
              "                        subject\n",
              "Neural_Networks             818\n",
              "Probabilistic_Methods       426\n",
              "Genetic_Algorithms          418\n",
              "Theory                      351\n",
              "Case_Based                  298\n",
              "Reinforcement_Learning      217\n",
              "Rule_Learning               180"
            ],
            "text/html": [
              "\n",
              "  <div id=\"df-b089870c-8ebd-4576-850f-0ff1c1db8fad\">\n",
              "    <div class=\"colab-df-container\">\n",
              "      <div>\n",
              "<style scoped>\n",
              "    .dataframe tbody tr th:only-of-type {\n",
              "        vertical-align: middle;\n",
              "    }\n",
              "\n",
              "    .dataframe tbody tr th {\n",
              "        vertical-align: top;\n",
              "    }\n",
              "\n",
              "    .dataframe thead th {\n",
              "        text-align: right;\n",
              "    }\n",
              "</style>\n",
              "<table border=\"1\" class=\"dataframe\">\n",
              "  <thead>\n",
              "    <tr style=\"text-align: right;\">\n",
              "      <th></th>\n",
              "      <th>subject</th>\n",
              "    </tr>\n",
              "  </thead>\n",
              "  <tbody>\n",
              "    <tr>\n",
              "      <th>Neural_Networks</th>\n",
              "      <td>818</td>\n",
              "    </tr>\n",
              "    <tr>\n",
              "      <th>Probabilistic_Methods</th>\n",
              "      <td>426</td>\n",
              "    </tr>\n",
              "    <tr>\n",
              "      <th>Genetic_Algorithms</th>\n",
              "      <td>418</td>\n",
              "    </tr>\n",
              "    <tr>\n",
              "      <th>Theory</th>\n",
              "      <td>351</td>\n",
              "    </tr>\n",
              "    <tr>\n",
              "      <th>Case_Based</th>\n",
              "      <td>298</td>\n",
              "    </tr>\n",
              "    <tr>\n",
              "      <th>Reinforcement_Learning</th>\n",
              "      <td>217</td>\n",
              "    </tr>\n",
              "    <tr>\n",
              "      <th>Rule_Learning</th>\n",
              "      <td>180</td>\n",
              "    </tr>\n",
              "  </tbody>\n",
              "</table>\n",
              "</div>\n",
              "      <button class=\"colab-df-convert\" onclick=\"convertToInteractive('df-b089870c-8ebd-4576-850f-0ff1c1db8fad')\"\n",
              "              title=\"Convert this dataframe to an interactive table.\"\n",
              "              style=\"display:none;\">\n",
              "        \n",
              "  <svg xmlns=\"http://www.w3.org/2000/svg\" height=\"24px\"viewBox=\"0 0 24 24\"\n",
              "       width=\"24px\">\n",
              "    <path d=\"M0 0h24v24H0V0z\" fill=\"none\"/>\n",
              "    <path d=\"M18.56 5.44l.94 2.06.94-2.06 2.06-.94-2.06-.94-.94-2.06-.94 2.06-2.06.94zm-11 1L8.5 8.5l.94-2.06 2.06-.94-2.06-.94L8.5 2.5l-.94 2.06-2.06.94zm10 10l.94 2.06.94-2.06 2.06-.94-2.06-.94-.94-2.06-.94 2.06-2.06.94z\"/><path d=\"M17.41 7.96l-1.37-1.37c-.4-.4-.92-.59-1.43-.59-.52 0-1.04.2-1.43.59L10.3 9.45l-7.72 7.72c-.78.78-.78 2.05 0 2.83L4 21.41c.39.39.9.59 1.41.59.51 0 1.02-.2 1.41-.59l7.78-7.78 2.81-2.81c.8-.78.8-2.07 0-2.86zM5.41 20L4 18.59l7.72-7.72 1.47 1.35L5.41 20z\"/>\n",
              "  </svg>\n",
              "      </button>\n",
              "      \n",
              "  <style>\n",
              "    .colab-df-container {\n",
              "      display:flex;\n",
              "      flex-wrap:wrap;\n",
              "      gap: 12px;\n",
              "    }\n",
              "\n",
              "    .colab-df-convert {\n",
              "      background-color: #E8F0FE;\n",
              "      border: none;\n",
              "      border-radius: 50%;\n",
              "      cursor: pointer;\n",
              "      display: none;\n",
              "      fill: #1967D2;\n",
              "      height: 32px;\n",
              "      padding: 0 0 0 0;\n",
              "      width: 32px;\n",
              "    }\n",
              "\n",
              "    .colab-df-convert:hover {\n",
              "      background-color: #E2EBFA;\n",
              "      box-shadow: 0px 1px 2px rgba(60, 64, 67, 0.3), 0px 1px 3px 1px rgba(60, 64, 67, 0.15);\n",
              "      fill: #174EA6;\n",
              "    }\n",
              "\n",
              "    [theme=dark] .colab-df-convert {\n",
              "      background-color: #3B4455;\n",
              "      fill: #D2E3FC;\n",
              "    }\n",
              "\n",
              "    [theme=dark] .colab-df-convert:hover {\n",
              "      background-color: #434B5C;\n",
              "      box-shadow: 0px 1px 3px 1px rgba(0, 0, 0, 0.15);\n",
              "      filter: drop-shadow(0px 1px 2px rgba(0, 0, 0, 0.3));\n",
              "      fill: #FFFFFF;\n",
              "    }\n",
              "  </style>\n",
              "\n",
              "      <script>\n",
              "        const buttonEl =\n",
              "          document.querySelector('#df-b089870c-8ebd-4576-850f-0ff1c1db8fad button.colab-df-convert');\n",
              "        buttonEl.style.display =\n",
              "          google.colab.kernel.accessAllowed ? 'block' : 'none';\n",
              "\n",
              "        async function convertToInteractive(key) {\n",
              "          const element = document.querySelector('#df-b089870c-8ebd-4576-850f-0ff1c1db8fad');\n",
              "          const dataTable =\n",
              "            await google.colab.kernel.invokeFunction('convertToInteractive',\n",
              "                                                     [key], {});\n",
              "          if (!dataTable) return;\n",
              "\n",
              "          const docLinkHtml = 'Like what you see? Visit the ' +\n",
              "            '<a target=\"_blank\" href=https://colab.research.google.com/notebooks/data_table.ipynb>data table notebook</a>'\n",
              "            + ' to learn more about interactive tables.';\n",
              "          element.innerHTML = '';\n",
              "          dataTable['output_type'] = 'display_data';\n",
              "          await google.colab.output.renderOutput(dataTable, element);\n",
              "          const docLink = document.createElement('div');\n",
              "          docLink.innerHTML = docLinkHtml;\n",
              "          element.appendChild(docLink);\n",
              "        }\n",
              "      </script>\n",
              "    </div>\n",
              "  </div>\n",
              "  "
            ]
          },
          "metadata": {},
          "execution_count": 346
        }
      ],
      "source": [
        "node_subjects.value_counts().to_frame()"
      ]
    },
    {
      "cell_type": "markdown",
      "metadata": {
        "id": "0RYZcSf0atde"
      },
      "source": [
        "### Splitting the data"
      ]
    },
    {
      "cell_type": "code",
      "execution_count": 347,
      "metadata": {
        "colab": {
          "base_uri": "https://localhost:8080/"
        },
        "id": "nHyhGRXUatdf",
        "outputId": "a3ac23ad-b1a1-43b2-edcd-947675443162"
      },
      "outputs": [
        {
          "output_type": "execute_result",
          "data": {
            "text/plain": [
              "1102873           Neural_Networks\n",
              "38205          Genetic_Algorithms\n",
              "1130927           Neural_Networks\n",
              "20178                  Case_Based\n",
              "134315      Probabilistic_Methods\n",
              "                    ...          \n",
              "1136634                    Theory\n",
              "308529     Reinforcement_Learning\n",
              "189655      Probabilistic_Methods\n",
              "139738            Neural_Networks\n",
              "936                    Case_Based\n",
              "Name: subject, Length: 1508, dtype: object"
            ]
          },
          "metadata": {},
          "execution_count": 347
        }
      ],
      "source": [
        "train_subjects, test_subjects = model_selection.train_test_split(\n",
        "    node_subjects, train_size=500, test_size=None, stratify=node_subjects\n",
        ")\n",
        "val_subjects, test_subjects = model_selection.train_test_split(\n",
        "    test_subjects, train_size=700, test_size=None, stratify=test_subjects\n",
        ")\n",
        "\n",
        "# we have to remove the previously selected 20 nodes from train split and val split and add them to test split in both cases above\n",
        "test_subjects"
      ]
    },
    {
      "cell_type": "code",
      "execution_count": 348,
      "metadata": {
        "colab": {
          "base_uri": "https://localhost:8080/"
        },
        "id": "kqbRs2lLi94o",
        "outputId": "4e36d747-959f-4869-94ab-84602ce49d9d"
      },
      "outputs": [
        {
          "output_type": "execute_result",
          "data": {
            "text/plain": [
              "1102873           Neural_Networks\n",
              "38205          Genetic_Algorithms\n",
              "1130927           Neural_Networks\n",
              "20178                  Case_Based\n",
              "134315      Probabilistic_Methods\n",
              "                    ...          \n",
              "6125                       Theory\n",
              "29492             Neural_Networks\n",
              "75121                  Case_Based\n",
              "7532              Neural_Networks\n",
              "6214       Reinforcement_Learning\n",
              "Name: subject, Length: 1534, dtype: object"
            ]
          },
          "metadata": {},
          "execution_count": 348
        }
      ],
      "source": [
        "for node in nodes_2_attack:\n",
        "  if node in train_subjects.index:\n",
        "    test_subjects[node] = train_subjects[node]\n",
        "    train_subjects.drop(node, inplace = True)\n",
        "  elif node in val_subjects.index:\n",
        "    test_subjects[node] = val_subjects[node]\n",
        "    val_subjects.drop(node,inplace = True)\n",
        "\n",
        "test_subjects"
      ]
    },
    {
      "cell_type": "code",
      "execution_count": 349,
      "metadata": {
        "colab": {
          "base_uri": "https://localhost:8080/",
          "height": 269
        },
        "id": "ESSOs2vpatdf",
        "outputId": "dceb7378-3976-4c79-cf09-2057256f3fca"
      },
      "outputs": [
        {
          "output_type": "execute_result",
          "data": {
            "text/plain": [
              "                        subject\n",
              "Neural_Networks             150\n",
              "Genetic_Algorithms           77\n",
              "Probabilistic_Methods        76\n",
              "Theory                       63\n",
              "Case_Based                   53\n",
              "Reinforcement_Learning       36\n",
              "Rule_Learning                33"
            ],
            "text/html": [
              "\n",
              "  <div id=\"df-2e85b36e-9408-4c5d-a5a6-eaa3af418b51\">\n",
              "    <div class=\"colab-df-container\">\n",
              "      <div>\n",
              "<style scoped>\n",
              "    .dataframe tbody tr th:only-of-type {\n",
              "        vertical-align: middle;\n",
              "    }\n",
              "\n",
              "    .dataframe tbody tr th {\n",
              "        vertical-align: top;\n",
              "    }\n",
              "\n",
              "    .dataframe thead th {\n",
              "        text-align: right;\n",
              "    }\n",
              "</style>\n",
              "<table border=\"1\" class=\"dataframe\">\n",
              "  <thead>\n",
              "    <tr style=\"text-align: right;\">\n",
              "      <th></th>\n",
              "      <th>subject</th>\n",
              "    </tr>\n",
              "  </thead>\n",
              "  <tbody>\n",
              "    <tr>\n",
              "      <th>Neural_Networks</th>\n",
              "      <td>150</td>\n",
              "    </tr>\n",
              "    <tr>\n",
              "      <th>Genetic_Algorithms</th>\n",
              "      <td>77</td>\n",
              "    </tr>\n",
              "    <tr>\n",
              "      <th>Probabilistic_Methods</th>\n",
              "      <td>76</td>\n",
              "    </tr>\n",
              "    <tr>\n",
              "      <th>Theory</th>\n",
              "      <td>63</td>\n",
              "    </tr>\n",
              "    <tr>\n",
              "      <th>Case_Based</th>\n",
              "      <td>53</td>\n",
              "    </tr>\n",
              "    <tr>\n",
              "      <th>Reinforcement_Learning</th>\n",
              "      <td>36</td>\n",
              "    </tr>\n",
              "    <tr>\n",
              "      <th>Rule_Learning</th>\n",
              "      <td>33</td>\n",
              "    </tr>\n",
              "  </tbody>\n",
              "</table>\n",
              "</div>\n",
              "      <button class=\"colab-df-convert\" onclick=\"convertToInteractive('df-2e85b36e-9408-4c5d-a5a6-eaa3af418b51')\"\n",
              "              title=\"Convert this dataframe to an interactive table.\"\n",
              "              style=\"display:none;\">\n",
              "        \n",
              "  <svg xmlns=\"http://www.w3.org/2000/svg\" height=\"24px\"viewBox=\"0 0 24 24\"\n",
              "       width=\"24px\">\n",
              "    <path d=\"M0 0h24v24H0V0z\" fill=\"none\"/>\n",
              "    <path d=\"M18.56 5.44l.94 2.06.94-2.06 2.06-.94-2.06-.94-.94-2.06-.94 2.06-2.06.94zm-11 1L8.5 8.5l.94-2.06 2.06-.94-2.06-.94L8.5 2.5l-.94 2.06-2.06.94zm10 10l.94 2.06.94-2.06 2.06-.94-2.06-.94-.94-2.06-.94 2.06-2.06.94z\"/><path d=\"M17.41 7.96l-1.37-1.37c-.4-.4-.92-.59-1.43-.59-.52 0-1.04.2-1.43.59L10.3 9.45l-7.72 7.72c-.78.78-.78 2.05 0 2.83L4 21.41c.39.39.9.59 1.41.59.51 0 1.02-.2 1.41-.59l7.78-7.78 2.81-2.81c.8-.78.8-2.07 0-2.86zM5.41 20L4 18.59l7.72-7.72 1.47 1.35L5.41 20z\"/>\n",
              "  </svg>\n",
              "      </button>\n",
              "      \n",
              "  <style>\n",
              "    .colab-df-container {\n",
              "      display:flex;\n",
              "      flex-wrap:wrap;\n",
              "      gap: 12px;\n",
              "    }\n",
              "\n",
              "    .colab-df-convert {\n",
              "      background-color: #E8F0FE;\n",
              "      border: none;\n",
              "      border-radius: 50%;\n",
              "      cursor: pointer;\n",
              "      display: none;\n",
              "      fill: #1967D2;\n",
              "      height: 32px;\n",
              "      padding: 0 0 0 0;\n",
              "      width: 32px;\n",
              "    }\n",
              "\n",
              "    .colab-df-convert:hover {\n",
              "      background-color: #E2EBFA;\n",
              "      box-shadow: 0px 1px 2px rgba(60, 64, 67, 0.3), 0px 1px 3px 1px rgba(60, 64, 67, 0.15);\n",
              "      fill: #174EA6;\n",
              "    }\n",
              "\n",
              "    [theme=dark] .colab-df-convert {\n",
              "      background-color: #3B4455;\n",
              "      fill: #D2E3FC;\n",
              "    }\n",
              "\n",
              "    [theme=dark] .colab-df-convert:hover {\n",
              "      background-color: #434B5C;\n",
              "      box-shadow: 0px 1px 3px 1px rgba(0, 0, 0, 0.15);\n",
              "      filter: drop-shadow(0px 1px 2px rgba(0, 0, 0, 0.3));\n",
              "      fill: #FFFFFF;\n",
              "    }\n",
              "  </style>\n",
              "\n",
              "      <script>\n",
              "        const buttonEl =\n",
              "          document.querySelector('#df-2e85b36e-9408-4c5d-a5a6-eaa3af418b51 button.colab-df-convert');\n",
              "        buttonEl.style.display =\n",
              "          google.colab.kernel.accessAllowed ? 'block' : 'none';\n",
              "\n",
              "        async function convertToInteractive(key) {\n",
              "          const element = document.querySelector('#df-2e85b36e-9408-4c5d-a5a6-eaa3af418b51');\n",
              "          const dataTable =\n",
              "            await google.colab.kernel.invokeFunction('convertToInteractive',\n",
              "                                                     [key], {});\n",
              "          if (!dataTable) return;\n",
              "\n",
              "          const docLinkHtml = 'Like what you see? Visit the ' +\n",
              "            '<a target=\"_blank\" href=https://colab.research.google.com/notebooks/data_table.ipynb>data table notebook</a>'\n",
              "            + ' to learn more about interactive tables.';\n",
              "          element.innerHTML = '';\n",
              "          dataTable['output_type'] = 'display_data';\n",
              "          await google.colab.output.renderOutput(dataTable, element);\n",
              "          const docLink = document.createElement('div');\n",
              "          docLink.innerHTML = docLinkHtml;\n",
              "          element.appendChild(docLink);\n",
              "        }\n",
              "      </script>\n",
              "    </div>\n",
              "  </div>\n",
              "  "
            ]
          },
          "metadata": {},
          "execution_count": 349
        }
      ],
      "source": [
        "train_subjects.value_counts().to_frame()"
      ]
    },
    {
      "cell_type": "markdown",
      "metadata": {
        "id": "L1iB_467atdg"
      },
      "source": [
        "### Converting to numeric arrays"
      ]
    },
    {
      "cell_type": "code",
      "execution_count": 350,
      "metadata": {
        "id": "TAYL3XgSatdh"
      },
      "outputs": [],
      "source": [
        "target_encoding = preprocessing.LabelBinarizer()\n",
        "\n",
        "train_targets = target_encoding.fit_transform(train_subjects)\n",
        "val_targets = target_encoding.transform(val_subjects)\n",
        "test_targets = target_encoding.transform(test_subjects)"
      ]
    },
    {
      "cell_type": "markdown",
      "metadata": {
        "id": "rAkH4UDJatdh"
      },
      "source": [
        "## Creating the GCN layers"
      ]
    },
    {
      "cell_type": "code",
      "execution_count": 351,
      "metadata": {
        "colab": {
          "base_uri": "https://localhost:8080/"
        },
        "id": "-2JuLOUaatdh",
        "outputId": "1ca1b16e-bee0-48bb-c4db-f1672ce4c6ca"
      },
      "outputs": [
        {
          "output_type": "stream",
          "name": "stdout",
          "text": [
            "Using GCN (local pooling) filters...\n"
          ]
        }
      ],
      "source": [
        "generator = FullBatchNodeGenerator(Graph, method=\"gcn\")"
      ]
    },
    {
      "cell_type": "code",
      "execution_count": 352,
      "metadata": {
        "id": "06oQZnVgatdi"
      },
      "outputs": [],
      "source": [
        "train_gen = generator.flow(train_subjects.index, train_targets)"
      ]
    },
    {
      "cell_type": "code",
      "execution_count": 353,
      "metadata": {
        "id": "2KSCpbe6atdj"
      },
      "outputs": [],
      "source": [
        "gcn = GCN(\n",
        "    layer_sizes=[16, 16], activations=[\"relu\", \"relu\"], generator=generator, dropout=0.5\n",
        ")"
      ]
    },
    {
      "cell_type": "code",
      "execution_count": 354,
      "metadata": {
        "colab": {
          "base_uri": "https://localhost:8080/"
        },
        "id": "D5QplREOatdj",
        "outputId": "9f9ddd1b-3914-4c7d-e7cd-9505f12023c2"
      },
      "outputs": [
        {
          "output_type": "execute_result",
          "data": {
            "text/plain": [
              "<KerasTensor: shape=(1, None, 16) dtype=float32 (created by layer 'gather_indices_7')>"
            ]
          },
          "metadata": {},
          "execution_count": 354
        }
      ],
      "source": [
        "x_inp, x_out = gcn.in_out_tensors()\n",
        "\n",
        "x_out"
      ]
    },
    {
      "cell_type": "code",
      "execution_count": 355,
      "metadata": {
        "id": "mL9q8-tcatdk"
      },
      "outputs": [],
      "source": [
        "predictions = layers.Dense(units=train_targets.shape[1], activation=\"softmax\")(x_out)"
      ]
    },
    {
      "cell_type": "markdown",
      "metadata": {
        "id": "2WrDOkZSatdk"
      },
      "source": [
        "## Training and evaluating"
      ]
    },
    {
      "cell_type": "markdown",
      "source": [
        "### Training the model"
      ],
      "metadata": {
        "id": "HHIFF5hiIwKw"
      }
    },
    {
      "cell_type": "code",
      "execution_count": 356,
      "metadata": {
        "colab": {
          "base_uri": "https://localhost:8080/"
        },
        "id": "U2r5GWZoatdl",
        "outputId": "57c8db49-a498-479e-9f58-387c4c80e859"
      },
      "outputs": [
        {
          "output_type": "stream",
          "name": "stderr",
          "text": [
            "/usr/local/lib/python3.7/dist-packages/keras/optimizer_v2/adam.py:105: UserWarning: The `lr` argument is deprecated, use `learning_rate` instead.\n",
            "  super(Adam, self).__init__(name, **kwargs)\n"
          ]
        }
      ],
      "source": [
        "model = Model(inputs=x_inp, outputs=predictions)\n",
        "model.compile(\n",
        "    optimizer=optimizers.Adam(lr=0.01),\n",
        "    loss=losses.categorical_crossentropy,\n",
        "    metrics=[\"acc\"],\n",
        ")"
      ]
    },
    {
      "cell_type": "code",
      "execution_count": 357,
      "metadata": {
        "id": "wqLzgBuSatdl"
      },
      "outputs": [],
      "source": [
        "val_gen = generator.flow(val_subjects.index, val_targets)"
      ]
    },
    {
      "cell_type": "code",
      "execution_count": 358,
      "metadata": {
        "id": "NFpIUt_9atdm"
      },
      "outputs": [],
      "source": [
        "from tensorflow.keras.callbacks import EarlyStopping\n",
        "\n",
        "es_callback = EarlyStopping(monitor=\"val_acc\", patience=50, restore_best_weights=True)"
      ]
    },
    {
      "cell_type": "code",
      "execution_count": 359,
      "metadata": {
        "id": "vOm-NXQkatdm",
        "colab": {
          "base_uri": "https://localhost:8080/"
        },
        "outputId": "97ef2b8c-e4d1-443f-8bbf-aa5e365ccc86"
      },
      "outputs": [
        {
          "output_type": "stream",
          "name": "stdout",
          "text": [
            "Epoch 1/300\n",
            "1/1 - 1s - loss: 1.9459 - acc: 0.1434 - val_loss: 1.9071 - val_acc: 0.3542 - 1s/epoch - 1s/step\n",
            "Epoch 2/300\n",
            "1/1 - 0s - loss: 1.9043 - acc: 0.3484 - val_loss: 1.8572 - val_acc: 0.3601 - 143ms/epoch - 143ms/step\n",
            "Epoch 3/300\n",
            "1/1 - 0s - loss: 1.8499 - acc: 0.3934 - val_loss: 1.7956 - val_acc: 0.3994 - 141ms/epoch - 141ms/step\n",
            "Epoch 4/300\n",
            "1/1 - 0s - loss: 1.7767 - acc: 0.4283 - val_loss: 1.7214 - val_acc: 0.4286 - 210ms/epoch - 210ms/step\n",
            "Epoch 5/300\n",
            "1/1 - 0s - loss: 1.6893 - acc: 0.4488 - val_loss: 1.6347 - val_acc: 0.4621 - 192ms/epoch - 192ms/step\n",
            "Epoch 6/300\n",
            "1/1 - 0s - loss: 1.5930 - acc: 0.4713 - val_loss: 1.5405 - val_acc: 0.4883 - 143ms/epoch - 143ms/step\n",
            "Epoch 7/300\n",
            "1/1 - 0s - loss: 1.4986 - acc: 0.5205 - val_loss: 1.4481 - val_acc: 0.5306 - 143ms/epoch - 143ms/step\n",
            "Epoch 8/300\n",
            "1/1 - 0s - loss: 1.4246 - acc: 0.5656 - val_loss: 1.3558 - val_acc: 0.5802 - 154ms/epoch - 154ms/step\n",
            "Epoch 9/300\n",
            "1/1 - 0s - loss: 1.3049 - acc: 0.5963 - val_loss: 1.2643 - val_acc: 0.6312 - 145ms/epoch - 145ms/step\n",
            "Epoch 10/300\n",
            "1/1 - 0s - loss: 1.2573 - acc: 0.5902 - val_loss: 1.1751 - val_acc: 0.6822 - 140ms/epoch - 140ms/step\n",
            "Epoch 11/300\n",
            "1/1 - 0s - loss: 1.1676 - acc: 0.6639 - val_loss: 1.0944 - val_acc: 0.7259 - 152ms/epoch - 152ms/step\n",
            "Epoch 12/300\n",
            "1/1 - 0s - loss: 1.1052 - acc: 0.6762 - val_loss: 1.0243 - val_acc: 0.7653 - 139ms/epoch - 139ms/step\n",
            "Epoch 13/300\n",
            "1/1 - 0s - loss: 0.9922 - acc: 0.7172 - val_loss: 0.9600 - val_acc: 0.7741 - 139ms/epoch - 139ms/step\n",
            "Epoch 14/300\n",
            "1/1 - 0s - loss: 0.9432 - acc: 0.7418 - val_loss: 0.8993 - val_acc: 0.7726 - 148ms/epoch - 148ms/step\n",
            "Epoch 15/300\n",
            "1/1 - 0s - loss: 0.8554 - acc: 0.7582 - val_loss: 0.8443 - val_acc: 0.7711 - 140ms/epoch - 140ms/step\n",
            "Epoch 16/300\n",
            "1/1 - 0s - loss: 0.8565 - acc: 0.7459 - val_loss: 0.7979 - val_acc: 0.7624 - 136ms/epoch - 136ms/step\n",
            "Epoch 17/300\n",
            "1/1 - 0s - loss: 0.7465 - acc: 0.7828 - val_loss: 0.7571 - val_acc: 0.7638 - 149ms/epoch - 149ms/step\n",
            "Epoch 18/300\n",
            "1/1 - 0s - loss: 0.7235 - acc: 0.7500 - val_loss: 0.7248 - val_acc: 0.7566 - 137ms/epoch - 137ms/step\n",
            "Epoch 19/300\n",
            "1/1 - 0s - loss: 0.6859 - acc: 0.7725 - val_loss: 0.6996 - val_acc: 0.7595 - 169ms/epoch - 169ms/step\n",
            "Epoch 20/300\n",
            "1/1 - 0s - loss: 0.6048 - acc: 0.8012 - val_loss: 0.6802 - val_acc: 0.7551 - 138ms/epoch - 138ms/step\n",
            "Epoch 21/300\n",
            "1/1 - 0s - loss: 0.5982 - acc: 0.7828 - val_loss: 0.6641 - val_acc: 0.7697 - 242ms/epoch - 242ms/step\n",
            "Epoch 22/300\n",
            "1/1 - 0s - loss: 0.5958 - acc: 0.7746 - val_loss: 0.6441 - val_acc: 0.7872 - 214ms/epoch - 214ms/step\n",
            "Epoch 23/300\n",
            "1/1 - 0s - loss: 0.5633 - acc: 0.7951 - val_loss: 0.6258 - val_acc: 0.7974 - 237ms/epoch - 237ms/step\n",
            "Epoch 24/300\n",
            "1/1 - 0s - loss: 0.5291 - acc: 0.8217 - val_loss: 0.6123 - val_acc: 0.8003 - 238ms/epoch - 238ms/step\n",
            "Epoch 25/300\n",
            "1/1 - 0s - loss: 0.4961 - acc: 0.8361 - val_loss: 0.5995 - val_acc: 0.8047 - 235ms/epoch - 235ms/step\n",
            "Epoch 26/300\n",
            "1/1 - 0s - loss: 0.4630 - acc: 0.8402 - val_loss: 0.5873 - val_acc: 0.8120 - 260ms/epoch - 260ms/step\n",
            "Epoch 27/300\n",
            "1/1 - 0s - loss: 0.4458 - acc: 0.8463 - val_loss: 0.5742 - val_acc: 0.8163 - 226ms/epoch - 226ms/step\n",
            "Epoch 28/300\n",
            "1/1 - 0s - loss: 0.4526 - acc: 0.8361 - val_loss: 0.5655 - val_acc: 0.8178 - 263ms/epoch - 263ms/step\n",
            "Epoch 29/300\n",
            "1/1 - 0s - loss: 0.3964 - acc: 0.8750 - val_loss: 0.5595 - val_acc: 0.8236 - 235ms/epoch - 235ms/step\n",
            "Epoch 30/300\n",
            "1/1 - 0s - loss: 0.4324 - acc: 0.8586 - val_loss: 0.5557 - val_acc: 0.8251 - 247ms/epoch - 247ms/step\n",
            "Epoch 31/300\n",
            "1/1 - 0s - loss: 0.3905 - acc: 0.8832 - val_loss: 0.5541 - val_acc: 0.8280 - 257ms/epoch - 257ms/step\n",
            "Epoch 32/300\n",
            "1/1 - 0s - loss: 0.3670 - acc: 0.8873 - val_loss: 0.5583 - val_acc: 0.8338 - 253ms/epoch - 253ms/step\n",
            "Epoch 33/300\n",
            "1/1 - 0s - loss: 0.3447 - acc: 0.8770 - val_loss: 0.5679 - val_acc: 0.8382 - 304ms/epoch - 304ms/step\n",
            "Epoch 34/300\n",
            "1/1 - 0s - loss: 0.3297 - acc: 0.8893 - val_loss: 0.5809 - val_acc: 0.8367 - 215ms/epoch - 215ms/step\n",
            "Epoch 35/300\n",
            "1/1 - 0s - loss: 0.3556 - acc: 0.8811 - val_loss: 0.5779 - val_acc: 0.8367 - 280ms/epoch - 280ms/step\n",
            "Epoch 36/300\n",
            "1/1 - 0s - loss: 0.3244 - acc: 0.9098 - val_loss: 0.5666 - val_acc: 0.8411 - 298ms/epoch - 298ms/step\n",
            "Epoch 37/300\n",
            "1/1 - 0s - loss: 0.2871 - acc: 0.9119 - val_loss: 0.5529 - val_acc: 0.8367 - 288ms/epoch - 288ms/step\n",
            "Epoch 38/300\n",
            "1/1 - 0s - loss: 0.2747 - acc: 0.9283 - val_loss: 0.5463 - val_acc: 0.8382 - 345ms/epoch - 345ms/step\n",
            "Epoch 39/300\n",
            "1/1 - 0s - loss: 0.2846 - acc: 0.9139 - val_loss: 0.5420 - val_acc: 0.8397 - 263ms/epoch - 263ms/step\n",
            "Epoch 40/300\n",
            "1/1 - 0s - loss: 0.2266 - acc: 0.9365 - val_loss: 0.5385 - val_acc: 0.8440 - 304ms/epoch - 304ms/step\n",
            "Epoch 41/300\n",
            "1/1 - 0s - loss: 0.2541 - acc: 0.9221 - val_loss: 0.5399 - val_acc: 0.8484 - 283ms/epoch - 283ms/step\n",
            "Epoch 42/300\n",
            "1/1 - 0s - loss: 0.2235 - acc: 0.9344 - val_loss: 0.5444 - val_acc: 0.8542 - 251ms/epoch - 251ms/step\n",
            "Epoch 43/300\n",
            "1/1 - 0s - loss: 0.2622 - acc: 0.9242 - val_loss: 0.5570 - val_acc: 0.8542 - 275ms/epoch - 275ms/step\n",
            "Epoch 44/300\n",
            "1/1 - 0s - loss: 0.2481 - acc: 0.9160 - val_loss: 0.5770 - val_acc: 0.8469 - 256ms/epoch - 256ms/step\n",
            "Epoch 45/300\n",
            "1/1 - 0s - loss: 0.2354 - acc: 0.9242 - val_loss: 0.5980 - val_acc: 0.8426 - 236ms/epoch - 236ms/step\n",
            "Epoch 46/300\n",
            "1/1 - 0s - loss: 0.1966 - acc: 0.9406 - val_loss: 0.6170 - val_acc: 0.8484 - 273ms/epoch - 273ms/step\n",
            "Epoch 47/300\n",
            "1/1 - 0s - loss: 0.2199 - acc: 0.9324 - val_loss: 0.6292 - val_acc: 0.8484 - 215ms/epoch - 215ms/step\n",
            "Epoch 48/300\n",
            "1/1 - 0s - loss: 0.2155 - acc: 0.9283 - val_loss: 0.6297 - val_acc: 0.8440 - 258ms/epoch - 258ms/step\n",
            "Epoch 49/300\n",
            "1/1 - 0s - loss: 0.1907 - acc: 0.9447 - val_loss: 0.6252 - val_acc: 0.8440 - 205ms/epoch - 205ms/step\n",
            "Epoch 50/300\n",
            "1/1 - 0s - loss: 0.2001 - acc: 0.9303 - val_loss: 0.6112 - val_acc: 0.8382 - 212ms/epoch - 212ms/step\n",
            "Epoch 51/300\n",
            "1/1 - 0s - loss: 0.1786 - acc: 0.9406 - val_loss: 0.6029 - val_acc: 0.8382 - 252ms/epoch - 252ms/step\n",
            "Epoch 52/300\n",
            "1/1 - 0s - loss: 0.1681 - acc: 0.9590 - val_loss: 0.5984 - val_acc: 0.8411 - 235ms/epoch - 235ms/step\n",
            "Epoch 53/300\n",
            "1/1 - 0s - loss: 0.1520 - acc: 0.9508 - val_loss: 0.6020 - val_acc: 0.8426 - 271ms/epoch - 271ms/step\n",
            "Epoch 54/300\n",
            "1/1 - 0s - loss: 0.1490 - acc: 0.9549 - val_loss: 0.6078 - val_acc: 0.8484 - 211ms/epoch - 211ms/step\n",
            "Epoch 55/300\n",
            "1/1 - 0s - loss: 0.1655 - acc: 0.9447 - val_loss: 0.6164 - val_acc: 0.8513 - 233ms/epoch - 233ms/step\n",
            "Epoch 56/300\n",
            "1/1 - 0s - loss: 0.1756 - acc: 0.9447 - val_loss: 0.6246 - val_acc: 0.8513 - 354ms/epoch - 354ms/step\n",
            "Epoch 57/300\n",
            "1/1 - 0s - loss: 0.1893 - acc: 0.9303 - val_loss: 0.6351 - val_acc: 0.8484 - 270ms/epoch - 270ms/step\n",
            "Epoch 58/300\n",
            "1/1 - 0s - loss: 0.1836 - acc: 0.9488 - val_loss: 0.6460 - val_acc: 0.8469 - 234ms/epoch - 234ms/step\n",
            "Epoch 59/300\n",
            "1/1 - 0s - loss: 0.1384 - acc: 0.9447 - val_loss: 0.6596 - val_acc: 0.8426 - 311ms/epoch - 311ms/step\n",
            "Epoch 60/300\n",
            "1/1 - 0s - loss: 0.1680 - acc: 0.9406 - val_loss: 0.6674 - val_acc: 0.8367 - 280ms/epoch - 280ms/step\n",
            "Epoch 61/300\n",
            "1/1 - 0s - loss: 0.1491 - acc: 0.9611 - val_loss: 0.6794 - val_acc: 0.8324 - 374ms/epoch - 374ms/step\n",
            "Epoch 62/300\n",
            "1/1 - 0s - loss: 0.1451 - acc: 0.9590 - val_loss: 0.6901 - val_acc: 0.8353 - 432ms/epoch - 432ms/step\n",
            "Epoch 63/300\n",
            "1/1 - 0s - loss: 0.1627 - acc: 0.9488 - val_loss: 0.6929 - val_acc: 0.8367 - 265ms/epoch - 265ms/step\n",
            "Epoch 64/300\n",
            "1/1 - 0s - loss: 0.1667 - acc: 0.9385 - val_loss: 0.6909 - val_acc: 0.8353 - 272ms/epoch - 272ms/step\n",
            "Epoch 65/300\n",
            "1/1 - 0s - loss: 0.1453 - acc: 0.9467 - val_loss: 0.6875 - val_acc: 0.8324 - 234ms/epoch - 234ms/step\n",
            "Epoch 66/300\n",
            "1/1 - 0s - loss: 0.1378 - acc: 0.9488 - val_loss: 0.6876 - val_acc: 0.8353 - 381ms/epoch - 381ms/step\n",
            "Epoch 67/300\n",
            "1/1 - 0s - loss: 0.1317 - acc: 0.9570 - val_loss: 0.6894 - val_acc: 0.8382 - 302ms/epoch - 302ms/step\n",
            "Epoch 68/300\n",
            "1/1 - 0s - loss: 0.1207 - acc: 0.9631 - val_loss: 0.6950 - val_acc: 0.8411 - 332ms/epoch - 332ms/step\n",
            "Epoch 69/300\n",
            "1/1 - 0s - loss: 0.1244 - acc: 0.9549 - val_loss: 0.6969 - val_acc: 0.8469 - 423ms/epoch - 423ms/step\n",
            "Epoch 70/300\n",
            "1/1 - 0s - loss: 0.1263 - acc: 0.9570 - val_loss: 0.6934 - val_acc: 0.8440 - 289ms/epoch - 289ms/step\n",
            "Epoch 71/300\n",
            "1/1 - 0s - loss: 0.1569 - acc: 0.9488 - val_loss: 0.6875 - val_acc: 0.8397 - 247ms/epoch - 247ms/step\n",
            "Epoch 72/300\n",
            "1/1 - 0s - loss: 0.1277 - acc: 0.9590 - val_loss: 0.6837 - val_acc: 0.8411 - 237ms/epoch - 237ms/step\n",
            "Epoch 73/300\n",
            "1/1 - 0s - loss: 0.1068 - acc: 0.9672 - val_loss: 0.6875 - val_acc: 0.8397 - 411ms/epoch - 411ms/step\n",
            "Epoch 74/300\n",
            "1/1 - 0s - loss: 0.1132 - acc: 0.9611 - val_loss: 0.6986 - val_acc: 0.8367 - 269ms/epoch - 269ms/step\n",
            "Epoch 75/300\n",
            "1/1 - 0s - loss: 0.1441 - acc: 0.9570 - val_loss: 0.7089 - val_acc: 0.8324 - 205ms/epoch - 205ms/step\n",
            "Epoch 76/300\n",
            "1/1 - 0s - loss: 0.1349 - acc: 0.9611 - val_loss: 0.7219 - val_acc: 0.8309 - 245ms/epoch - 245ms/step\n",
            "Epoch 77/300\n",
            "1/1 - 0s - loss: 0.0802 - acc: 0.9857 - val_loss: 0.7339 - val_acc: 0.8294 - 258ms/epoch - 258ms/step\n",
            "Epoch 78/300\n",
            "1/1 - 0s - loss: 0.1133 - acc: 0.9693 - val_loss: 0.7448 - val_acc: 0.8294 - 368ms/epoch - 368ms/step\n",
            "Epoch 79/300\n",
            "1/1 - 0s - loss: 0.1200 - acc: 0.9570 - val_loss: 0.7493 - val_acc: 0.8294 - 281ms/epoch - 281ms/step\n",
            "Epoch 80/300\n",
            "1/1 - 0s - loss: 0.1004 - acc: 0.9652 - val_loss: 0.7516 - val_acc: 0.8294 - 328ms/epoch - 328ms/step\n",
            "Epoch 81/300\n",
            "1/1 - 0s - loss: 0.1070 - acc: 0.9734 - val_loss: 0.7554 - val_acc: 0.8309 - 343ms/epoch - 343ms/step\n",
            "Epoch 82/300\n",
            "1/1 - 0s - loss: 0.1164 - acc: 0.9611 - val_loss: 0.7536 - val_acc: 0.8324 - 197ms/epoch - 197ms/step\n",
            "Epoch 83/300\n",
            "1/1 - 0s - loss: 0.0956 - acc: 0.9734 - val_loss: 0.7563 - val_acc: 0.8353 - 264ms/epoch - 264ms/step\n",
            "Epoch 84/300\n",
            "1/1 - 0s - loss: 0.0921 - acc: 0.9754 - val_loss: 0.7614 - val_acc: 0.8382 - 280ms/epoch - 280ms/step\n",
            "Epoch 85/300\n",
            "1/1 - 0s - loss: 0.1140 - acc: 0.9549 - val_loss: 0.7604 - val_acc: 0.8397 - 232ms/epoch - 232ms/step\n",
            "Epoch 86/300\n",
            "1/1 - 0s - loss: 0.1097 - acc: 0.9672 - val_loss: 0.7599 - val_acc: 0.8397 - 349ms/epoch - 349ms/step\n",
            "Epoch 87/300\n",
            "1/1 - 0s - loss: 0.1148 - acc: 0.9693 - val_loss: 0.7570 - val_acc: 0.8397 - 216ms/epoch - 216ms/step\n",
            "Epoch 88/300\n",
            "1/1 - 0s - loss: 0.1069 - acc: 0.9652 - val_loss: 0.7543 - val_acc: 0.8397 - 329ms/epoch - 329ms/step\n",
            "Epoch 89/300\n",
            "1/1 - 0s - loss: 0.0985 - acc: 0.9652 - val_loss: 0.7558 - val_acc: 0.8411 - 361ms/epoch - 361ms/step\n",
            "Epoch 90/300\n",
            "1/1 - 0s - loss: 0.1177 - acc: 0.9652 - val_loss: 0.7580 - val_acc: 0.8397 - 214ms/epoch - 214ms/step\n",
            "Epoch 91/300\n",
            "1/1 - 0s - loss: 0.1320 - acc: 0.9570 - val_loss: 0.7597 - val_acc: 0.8382 - 308ms/epoch - 308ms/step\n",
            "Epoch 92/300\n",
            "1/1 - 0s - loss: 0.1023 - acc: 0.9590 - val_loss: 0.7596 - val_acc: 0.8397 - 270ms/epoch - 270ms/step\n"
          ]
        }
      ],
      "source": [
        "history = model.fit(\n",
        "    train_gen,\n",
        "    epochs=300,\n",
        "    validation_data=val_gen,\n",
        "    verbose=2,\n",
        "    shuffle=False,\n",
        "    callbacks=[es_callback],\n",
        ")"
      ]
    },
    {
      "cell_type": "code",
      "execution_count": 360,
      "metadata": {
        "id": "KTdSq-JOatdo"
      },
      "outputs": [],
      "source": [
        "test_gen = generator.flow(test_subjects.index, test_targets)"
      ]
    },
    {
      "cell_type": "code",
      "execution_count": 361,
      "metadata": {
        "id": "pilPJqbgatdo",
        "colab": {
          "base_uri": "https://localhost:8080/"
        },
        "outputId": "cd66619e-24ac-4d41-bad3-5a1177884a3d"
      },
      "outputs": [
        {
          "output_type": "stream",
          "name": "stdout",
          "text": [
            "1/1 [==============================] - 0s 100ms/step - loss: 0.5910 - acc: 0.8442\n",
            "\n",
            "Test Set Metrics:\n",
            "\tloss: 0.5910\n",
            "\tacc: 0.8442\n"
          ]
        }
      ],
      "source": [
        "test_metrics = model.evaluate(test_gen)\n",
        "print(\"\\nTest Set Metrics:\")\n",
        "for name, val in zip(model.metrics_names, test_metrics):\n",
        "    print(\"\\t{}: {:0.4f}\".format(name, val))"
      ]
    },
    {
      "cell_type": "markdown",
      "metadata": {
        "id": "AfS2UGKGatdo"
      },
      "source": [
        "### Making predictions with the model"
      ]
    },
    {
      "cell_type": "code",
      "execution_count": 362,
      "metadata": {
        "id": "083vwOEeatdp"
      },
      "outputs": [],
      "source": [
        "all_nodes = node_subjects.index\n",
        "all_gen = generator.flow(all_nodes)\n",
        "all_predictions = model.predict(all_gen)"
      ]
    },
    {
      "cell_type": "code",
      "execution_count": 363,
      "metadata": {
        "id": "D5sWRrtCatdp"
      },
      "outputs": [],
      "source": [
        "node_predictions = target_encoding.inverse_transform(all_predictions.squeeze())"
      ]
    },
    {
      "cell_type": "code",
      "execution_count": 364,
      "metadata": {
        "id": "bwpIKpvdatdp",
        "colab": {
          "base_uri": "https://localhost:8080/",
          "height": 206
        },
        "outputId": "b715ae47-c3a8-4a21-c1d9-909b3a951fed"
      },
      "outputs": [
        {
          "output_type": "execute_result",
          "data": {
            "text/plain": [
              "                      Predicted                    True\n",
              "31336           Neural_Networks         Neural_Networks\n",
              "1061127           Rule_Learning           Rule_Learning\n",
              "1106406  Reinforcement_Learning  Reinforcement_Learning\n",
              "13195    Reinforcement_Learning  Reinforcement_Learning\n",
              "37879     Probabilistic_Methods   Probabilistic_Methods"
            ],
            "text/html": [
              "\n",
              "  <div id=\"df-cd867de0-cd80-42c1-8d34-4e17d5a9b401\">\n",
              "    <div class=\"colab-df-container\">\n",
              "      <div>\n",
              "<style scoped>\n",
              "    .dataframe tbody tr th:only-of-type {\n",
              "        vertical-align: middle;\n",
              "    }\n",
              "\n",
              "    .dataframe tbody tr th {\n",
              "        vertical-align: top;\n",
              "    }\n",
              "\n",
              "    .dataframe thead th {\n",
              "        text-align: right;\n",
              "    }\n",
              "</style>\n",
              "<table border=\"1\" class=\"dataframe\">\n",
              "  <thead>\n",
              "    <tr style=\"text-align: right;\">\n",
              "      <th></th>\n",
              "      <th>Predicted</th>\n",
              "      <th>True</th>\n",
              "    </tr>\n",
              "  </thead>\n",
              "  <tbody>\n",
              "    <tr>\n",
              "      <th>31336</th>\n",
              "      <td>Neural_Networks</td>\n",
              "      <td>Neural_Networks</td>\n",
              "    </tr>\n",
              "    <tr>\n",
              "      <th>1061127</th>\n",
              "      <td>Rule_Learning</td>\n",
              "      <td>Rule_Learning</td>\n",
              "    </tr>\n",
              "    <tr>\n",
              "      <th>1106406</th>\n",
              "      <td>Reinforcement_Learning</td>\n",
              "      <td>Reinforcement_Learning</td>\n",
              "    </tr>\n",
              "    <tr>\n",
              "      <th>13195</th>\n",
              "      <td>Reinforcement_Learning</td>\n",
              "      <td>Reinforcement_Learning</td>\n",
              "    </tr>\n",
              "    <tr>\n",
              "      <th>37879</th>\n",
              "      <td>Probabilistic_Methods</td>\n",
              "      <td>Probabilistic_Methods</td>\n",
              "    </tr>\n",
              "  </tbody>\n",
              "</table>\n",
              "</div>\n",
              "      <button class=\"colab-df-convert\" onclick=\"convertToInteractive('df-cd867de0-cd80-42c1-8d34-4e17d5a9b401')\"\n",
              "              title=\"Convert this dataframe to an interactive table.\"\n",
              "              style=\"display:none;\">\n",
              "        \n",
              "  <svg xmlns=\"http://www.w3.org/2000/svg\" height=\"24px\"viewBox=\"0 0 24 24\"\n",
              "       width=\"24px\">\n",
              "    <path d=\"M0 0h24v24H0V0z\" fill=\"none\"/>\n",
              "    <path d=\"M18.56 5.44l.94 2.06.94-2.06 2.06-.94-2.06-.94-.94-2.06-.94 2.06-2.06.94zm-11 1L8.5 8.5l.94-2.06 2.06-.94-2.06-.94L8.5 2.5l-.94 2.06-2.06.94zm10 10l.94 2.06.94-2.06 2.06-.94-2.06-.94-.94-2.06-.94 2.06-2.06.94z\"/><path d=\"M17.41 7.96l-1.37-1.37c-.4-.4-.92-.59-1.43-.59-.52 0-1.04.2-1.43.59L10.3 9.45l-7.72 7.72c-.78.78-.78 2.05 0 2.83L4 21.41c.39.39.9.59 1.41.59.51 0 1.02-.2 1.41-.59l7.78-7.78 2.81-2.81c.8-.78.8-2.07 0-2.86zM5.41 20L4 18.59l7.72-7.72 1.47 1.35L5.41 20z\"/>\n",
              "  </svg>\n",
              "      </button>\n",
              "      \n",
              "  <style>\n",
              "    .colab-df-container {\n",
              "      display:flex;\n",
              "      flex-wrap:wrap;\n",
              "      gap: 12px;\n",
              "    }\n",
              "\n",
              "    .colab-df-convert {\n",
              "      background-color: #E8F0FE;\n",
              "      border: none;\n",
              "      border-radius: 50%;\n",
              "      cursor: pointer;\n",
              "      display: none;\n",
              "      fill: #1967D2;\n",
              "      height: 32px;\n",
              "      padding: 0 0 0 0;\n",
              "      width: 32px;\n",
              "    }\n",
              "\n",
              "    .colab-df-convert:hover {\n",
              "      background-color: #E2EBFA;\n",
              "      box-shadow: 0px 1px 2px rgba(60, 64, 67, 0.3), 0px 1px 3px 1px rgba(60, 64, 67, 0.15);\n",
              "      fill: #174EA6;\n",
              "    }\n",
              "\n",
              "    [theme=dark] .colab-df-convert {\n",
              "      background-color: #3B4455;\n",
              "      fill: #D2E3FC;\n",
              "    }\n",
              "\n",
              "    [theme=dark] .colab-df-convert:hover {\n",
              "      background-color: #434B5C;\n",
              "      box-shadow: 0px 1px 3px 1px rgba(0, 0, 0, 0.15);\n",
              "      filter: drop-shadow(0px 1px 2px rgba(0, 0, 0, 0.3));\n",
              "      fill: #FFFFFF;\n",
              "    }\n",
              "  </style>\n",
              "\n",
              "      <script>\n",
              "        const buttonEl =\n",
              "          document.querySelector('#df-cd867de0-cd80-42c1-8d34-4e17d5a9b401 button.colab-df-convert');\n",
              "        buttonEl.style.display =\n",
              "          google.colab.kernel.accessAllowed ? 'block' : 'none';\n",
              "\n",
              "        async function convertToInteractive(key) {\n",
              "          const element = document.querySelector('#df-cd867de0-cd80-42c1-8d34-4e17d5a9b401');\n",
              "          const dataTable =\n",
              "            await google.colab.kernel.invokeFunction('convertToInteractive',\n",
              "                                                     [key], {});\n",
              "          if (!dataTable) return;\n",
              "\n",
              "          const docLinkHtml = 'Like what you see? Visit the ' +\n",
              "            '<a target=\"_blank\" href=https://colab.research.google.com/notebooks/data_table.ipynb>data table notebook</a>'\n",
              "            + ' to learn more about interactive tables.';\n",
              "          element.innerHTML = '';\n",
              "          dataTable['output_type'] = 'display_data';\n",
              "          await google.colab.output.renderOutput(dataTable, element);\n",
              "          const docLink = document.createElement('div');\n",
              "          docLink.innerHTML = docLinkHtml;\n",
              "          element.appendChild(docLink);\n",
              "        }\n",
              "      </script>\n",
              "    </div>\n",
              "  </div>\n",
              "  "
            ]
          },
          "metadata": {},
          "execution_count": 364
        }
      ],
      "source": [
        "df = pd.DataFrame({\"Predicted\": node_predictions, \"True\": node_subjects})\n",
        "df.head()"
      ]
    },
    {
      "cell_type": "code",
      "execution_count": 365,
      "metadata": {
        "id": "FCGy5BeC1Xop",
        "colab": {
          "base_uri": "https://localhost:8080/",
          "height": 1000
        },
        "outputId": "3a20e2d1-43e7-4480-e35f-d576ad5cd4b9"
      },
      "outputs": [
        {
          "output_type": "execute_result",
          "data": {
            "text/plain": [
              "                     Predicted                    True\n",
              "3217                    Theory                  Theory\n",
              "35          Genetic_Algorithms      Genetic_Algorithms\n",
              "62389       Genetic_Algorithms              Case_Based\n",
              "10796                   Theory              Case_Based\n",
              "628667  Reinforcement_Learning  Reinforcement_Learning\n",
              "16437          Neural_Networks         Neural_Networks\n",
              "575292      Genetic_Algorithms      Genetic_Algorithms\n",
              "14429    Probabilistic_Methods   Probabilistic_Methods\n",
              "16008    Probabilistic_Methods   Probabilistic_Methods\n",
              "18777    Probabilistic_Methods   Probabilistic_Methods\n",
              "137868   Probabilistic_Methods   Probabilistic_Methods\n",
              "54131       Genetic_Algorithms      Genetic_Algorithms\n",
              "22835          Neural_Networks         Neural_Networks\n",
              "63915            Rule_Learning         Neural_Networks\n",
              "5348           Neural_Networks         Neural_Networks\n",
              "634938      Genetic_Algorithms      Genetic_Algorithms\n",
              "10177                   Theory                  Theory\n",
              "132821      Genetic_Algorithms                  Theory\n",
              "95594   Reinforcement_Learning  Reinforcement_Learning\n",
              "6385    Reinforcement_Learning  Reinforcement_Learning\n",
              "27543          Neural_Networks         Neural_Networks\n",
              "6818     Probabilistic_Methods   Probabilistic_Methods\n",
              "126926   Probabilistic_Methods   Probabilistic_Methods\n",
              "46491                   Theory                  Theory\n",
              "189708      Genetic_Algorithms   Probabilistic_Methods\n",
              "31479    Probabilistic_Methods   Probabilistic_Methods\n",
              "20534   Reinforcement_Learning  Reinforcement_Learning\n",
              "141160         Neural_Networks         Neural_Networks\n",
              "6213    Reinforcement_Learning  Reinforcement_Learning\n",
              "89547                   Theory                  Theory\n",
              "15984    Probabilistic_Methods   Probabilistic_Methods\n",
              "2440             Rule_Learning           Rule_Learning\n",
              "114     Reinforcement_Learning  Reinforcement_Learning\n",
              "8696        Genetic_Algorithms                  Theory\n",
              "116084           Rule_Learning           Rule_Learning\n",
              "3191     Probabilistic_Methods   Probabilistic_Methods\n",
              "6125                    Theory                  Theory\n",
              "644577   Probabilistic_Methods   Probabilistic_Methods\n",
              "94639       Genetic_Algorithms      Genetic_Algorithms\n",
              "29492          Neural_Networks         Neural_Networks\n",
              "561789   Probabilistic_Methods   Probabilistic_Methods\n",
              "31863    Probabilistic_Methods   Probabilistic_Methods\n",
              "75121            Rule_Learning              Case_Based\n",
              "7532           Neural_Networks         Neural_Networks\n",
              "20601                   Theory                  Theory\n",
              "910            Neural_Networks         Neural_Networks\n",
              "6214    Reinforcement_Learning  Reinforcement_Learning"
            ],
            "text/html": [
              "\n",
              "  <div id=\"df-ca81039e-02b5-49d7-b2d9-b533ac51340e\">\n",
              "    <div class=\"colab-df-container\">\n",
              "      <div>\n",
              "<style scoped>\n",
              "    .dataframe tbody tr th:only-of-type {\n",
              "        vertical-align: middle;\n",
              "    }\n",
              "\n",
              "    .dataframe tbody tr th {\n",
              "        vertical-align: top;\n",
              "    }\n",
              "\n",
              "    .dataframe thead th {\n",
              "        text-align: right;\n",
              "    }\n",
              "</style>\n",
              "<table border=\"1\" class=\"dataframe\">\n",
              "  <thead>\n",
              "    <tr style=\"text-align: right;\">\n",
              "      <th></th>\n",
              "      <th>Predicted</th>\n",
              "      <th>True</th>\n",
              "    </tr>\n",
              "  </thead>\n",
              "  <tbody>\n",
              "    <tr>\n",
              "      <th>3217</th>\n",
              "      <td>Theory</td>\n",
              "      <td>Theory</td>\n",
              "    </tr>\n",
              "    <tr>\n",
              "      <th>35</th>\n",
              "      <td>Genetic_Algorithms</td>\n",
              "      <td>Genetic_Algorithms</td>\n",
              "    </tr>\n",
              "    <tr>\n",
              "      <th>62389</th>\n",
              "      <td>Genetic_Algorithms</td>\n",
              "      <td>Case_Based</td>\n",
              "    </tr>\n",
              "    <tr>\n",
              "      <th>10796</th>\n",
              "      <td>Theory</td>\n",
              "      <td>Case_Based</td>\n",
              "    </tr>\n",
              "    <tr>\n",
              "      <th>628667</th>\n",
              "      <td>Reinforcement_Learning</td>\n",
              "      <td>Reinforcement_Learning</td>\n",
              "    </tr>\n",
              "    <tr>\n",
              "      <th>16437</th>\n",
              "      <td>Neural_Networks</td>\n",
              "      <td>Neural_Networks</td>\n",
              "    </tr>\n",
              "    <tr>\n",
              "      <th>575292</th>\n",
              "      <td>Genetic_Algorithms</td>\n",
              "      <td>Genetic_Algorithms</td>\n",
              "    </tr>\n",
              "    <tr>\n",
              "      <th>14429</th>\n",
              "      <td>Probabilistic_Methods</td>\n",
              "      <td>Probabilistic_Methods</td>\n",
              "    </tr>\n",
              "    <tr>\n",
              "      <th>16008</th>\n",
              "      <td>Probabilistic_Methods</td>\n",
              "      <td>Probabilistic_Methods</td>\n",
              "    </tr>\n",
              "    <tr>\n",
              "      <th>18777</th>\n",
              "      <td>Probabilistic_Methods</td>\n",
              "      <td>Probabilistic_Methods</td>\n",
              "    </tr>\n",
              "    <tr>\n",
              "      <th>137868</th>\n",
              "      <td>Probabilistic_Methods</td>\n",
              "      <td>Probabilistic_Methods</td>\n",
              "    </tr>\n",
              "    <tr>\n",
              "      <th>54131</th>\n",
              "      <td>Genetic_Algorithms</td>\n",
              "      <td>Genetic_Algorithms</td>\n",
              "    </tr>\n",
              "    <tr>\n",
              "      <th>22835</th>\n",
              "      <td>Neural_Networks</td>\n",
              "      <td>Neural_Networks</td>\n",
              "    </tr>\n",
              "    <tr>\n",
              "      <th>63915</th>\n",
              "      <td>Rule_Learning</td>\n",
              "      <td>Neural_Networks</td>\n",
              "    </tr>\n",
              "    <tr>\n",
              "      <th>5348</th>\n",
              "      <td>Neural_Networks</td>\n",
              "      <td>Neural_Networks</td>\n",
              "    </tr>\n",
              "    <tr>\n",
              "      <th>634938</th>\n",
              "      <td>Genetic_Algorithms</td>\n",
              "      <td>Genetic_Algorithms</td>\n",
              "    </tr>\n",
              "    <tr>\n",
              "      <th>10177</th>\n",
              "      <td>Theory</td>\n",
              "      <td>Theory</td>\n",
              "    </tr>\n",
              "    <tr>\n",
              "      <th>132821</th>\n",
              "      <td>Genetic_Algorithms</td>\n",
              "      <td>Theory</td>\n",
              "    </tr>\n",
              "    <tr>\n",
              "      <th>95594</th>\n",
              "      <td>Reinforcement_Learning</td>\n",
              "      <td>Reinforcement_Learning</td>\n",
              "    </tr>\n",
              "    <tr>\n",
              "      <th>6385</th>\n",
              "      <td>Reinforcement_Learning</td>\n",
              "      <td>Reinforcement_Learning</td>\n",
              "    </tr>\n",
              "    <tr>\n",
              "      <th>27543</th>\n",
              "      <td>Neural_Networks</td>\n",
              "      <td>Neural_Networks</td>\n",
              "    </tr>\n",
              "    <tr>\n",
              "      <th>6818</th>\n",
              "      <td>Probabilistic_Methods</td>\n",
              "      <td>Probabilistic_Methods</td>\n",
              "    </tr>\n",
              "    <tr>\n",
              "      <th>126926</th>\n",
              "      <td>Probabilistic_Methods</td>\n",
              "      <td>Probabilistic_Methods</td>\n",
              "    </tr>\n",
              "    <tr>\n",
              "      <th>46491</th>\n",
              "      <td>Theory</td>\n",
              "      <td>Theory</td>\n",
              "    </tr>\n",
              "    <tr>\n",
              "      <th>189708</th>\n",
              "      <td>Genetic_Algorithms</td>\n",
              "      <td>Probabilistic_Methods</td>\n",
              "    </tr>\n",
              "    <tr>\n",
              "      <th>31479</th>\n",
              "      <td>Probabilistic_Methods</td>\n",
              "      <td>Probabilistic_Methods</td>\n",
              "    </tr>\n",
              "    <tr>\n",
              "      <th>20534</th>\n",
              "      <td>Reinforcement_Learning</td>\n",
              "      <td>Reinforcement_Learning</td>\n",
              "    </tr>\n",
              "    <tr>\n",
              "      <th>141160</th>\n",
              "      <td>Neural_Networks</td>\n",
              "      <td>Neural_Networks</td>\n",
              "    </tr>\n",
              "    <tr>\n",
              "      <th>6213</th>\n",
              "      <td>Reinforcement_Learning</td>\n",
              "      <td>Reinforcement_Learning</td>\n",
              "    </tr>\n",
              "    <tr>\n",
              "      <th>89547</th>\n",
              "      <td>Theory</td>\n",
              "      <td>Theory</td>\n",
              "    </tr>\n",
              "    <tr>\n",
              "      <th>15984</th>\n",
              "      <td>Probabilistic_Methods</td>\n",
              "      <td>Probabilistic_Methods</td>\n",
              "    </tr>\n",
              "    <tr>\n",
              "      <th>2440</th>\n",
              "      <td>Rule_Learning</td>\n",
              "      <td>Rule_Learning</td>\n",
              "    </tr>\n",
              "    <tr>\n",
              "      <th>114</th>\n",
              "      <td>Reinforcement_Learning</td>\n",
              "      <td>Reinforcement_Learning</td>\n",
              "    </tr>\n",
              "    <tr>\n",
              "      <th>8696</th>\n",
              "      <td>Genetic_Algorithms</td>\n",
              "      <td>Theory</td>\n",
              "    </tr>\n",
              "    <tr>\n",
              "      <th>116084</th>\n",
              "      <td>Rule_Learning</td>\n",
              "      <td>Rule_Learning</td>\n",
              "    </tr>\n",
              "    <tr>\n",
              "      <th>3191</th>\n",
              "      <td>Probabilistic_Methods</td>\n",
              "      <td>Probabilistic_Methods</td>\n",
              "    </tr>\n",
              "    <tr>\n",
              "      <th>6125</th>\n",
              "      <td>Theory</td>\n",
              "      <td>Theory</td>\n",
              "    </tr>\n",
              "    <tr>\n",
              "      <th>644577</th>\n",
              "      <td>Probabilistic_Methods</td>\n",
              "      <td>Probabilistic_Methods</td>\n",
              "    </tr>\n",
              "    <tr>\n",
              "      <th>94639</th>\n",
              "      <td>Genetic_Algorithms</td>\n",
              "      <td>Genetic_Algorithms</td>\n",
              "    </tr>\n",
              "    <tr>\n",
              "      <th>29492</th>\n",
              "      <td>Neural_Networks</td>\n",
              "      <td>Neural_Networks</td>\n",
              "    </tr>\n",
              "    <tr>\n",
              "      <th>561789</th>\n",
              "      <td>Probabilistic_Methods</td>\n",
              "      <td>Probabilistic_Methods</td>\n",
              "    </tr>\n",
              "    <tr>\n",
              "      <th>31863</th>\n",
              "      <td>Probabilistic_Methods</td>\n",
              "      <td>Probabilistic_Methods</td>\n",
              "    </tr>\n",
              "    <tr>\n",
              "      <th>75121</th>\n",
              "      <td>Rule_Learning</td>\n",
              "      <td>Case_Based</td>\n",
              "    </tr>\n",
              "    <tr>\n",
              "      <th>7532</th>\n",
              "      <td>Neural_Networks</td>\n",
              "      <td>Neural_Networks</td>\n",
              "    </tr>\n",
              "    <tr>\n",
              "      <th>20601</th>\n",
              "      <td>Theory</td>\n",
              "      <td>Theory</td>\n",
              "    </tr>\n",
              "    <tr>\n",
              "      <th>910</th>\n",
              "      <td>Neural_Networks</td>\n",
              "      <td>Neural_Networks</td>\n",
              "    </tr>\n",
              "    <tr>\n",
              "      <th>6214</th>\n",
              "      <td>Reinforcement_Learning</td>\n",
              "      <td>Reinforcement_Learning</td>\n",
              "    </tr>\n",
              "  </tbody>\n",
              "</table>\n",
              "</div>\n",
              "      <button class=\"colab-df-convert\" onclick=\"convertToInteractive('df-ca81039e-02b5-49d7-b2d9-b533ac51340e')\"\n",
              "              title=\"Convert this dataframe to an interactive table.\"\n",
              "              style=\"display:none;\">\n",
              "        \n",
              "  <svg xmlns=\"http://www.w3.org/2000/svg\" height=\"24px\"viewBox=\"0 0 24 24\"\n",
              "       width=\"24px\">\n",
              "    <path d=\"M0 0h24v24H0V0z\" fill=\"none\"/>\n",
              "    <path d=\"M18.56 5.44l.94 2.06.94-2.06 2.06-.94-2.06-.94-.94-2.06-.94 2.06-2.06.94zm-11 1L8.5 8.5l.94-2.06 2.06-.94-2.06-.94L8.5 2.5l-.94 2.06-2.06.94zm10 10l.94 2.06.94-2.06 2.06-.94-2.06-.94-.94-2.06-.94 2.06-2.06.94z\"/><path d=\"M17.41 7.96l-1.37-1.37c-.4-.4-.92-.59-1.43-.59-.52 0-1.04.2-1.43.59L10.3 9.45l-7.72 7.72c-.78.78-.78 2.05 0 2.83L4 21.41c.39.39.9.59 1.41.59.51 0 1.02-.2 1.41-.59l7.78-7.78 2.81-2.81c.8-.78.8-2.07 0-2.86zM5.41 20L4 18.59l7.72-7.72 1.47 1.35L5.41 20z\"/>\n",
              "  </svg>\n",
              "      </button>\n",
              "      \n",
              "  <style>\n",
              "    .colab-df-container {\n",
              "      display:flex;\n",
              "      flex-wrap:wrap;\n",
              "      gap: 12px;\n",
              "    }\n",
              "\n",
              "    .colab-df-convert {\n",
              "      background-color: #E8F0FE;\n",
              "      border: none;\n",
              "      border-radius: 50%;\n",
              "      cursor: pointer;\n",
              "      display: none;\n",
              "      fill: #1967D2;\n",
              "      height: 32px;\n",
              "      padding: 0 0 0 0;\n",
              "      width: 32px;\n",
              "    }\n",
              "\n",
              "    .colab-df-convert:hover {\n",
              "      background-color: #E2EBFA;\n",
              "      box-shadow: 0px 1px 2px rgba(60, 64, 67, 0.3), 0px 1px 3px 1px rgba(60, 64, 67, 0.15);\n",
              "      fill: #174EA6;\n",
              "    }\n",
              "\n",
              "    [theme=dark] .colab-df-convert {\n",
              "      background-color: #3B4455;\n",
              "      fill: #D2E3FC;\n",
              "    }\n",
              "\n",
              "    [theme=dark] .colab-df-convert:hover {\n",
              "      background-color: #434B5C;\n",
              "      box-shadow: 0px 1px 3px 1px rgba(0, 0, 0, 0.15);\n",
              "      filter: drop-shadow(0px 1px 2px rgba(0, 0, 0, 0.3));\n",
              "      fill: #FFFFFF;\n",
              "    }\n",
              "  </style>\n",
              "\n",
              "      <script>\n",
              "        const buttonEl =\n",
              "          document.querySelector('#df-ca81039e-02b5-49d7-b2d9-b533ac51340e button.colab-df-convert');\n",
              "        buttonEl.style.display =\n",
              "          google.colab.kernel.accessAllowed ? 'block' : 'none';\n",
              "\n",
              "        async function convertToInteractive(key) {\n",
              "          const element = document.querySelector('#df-ca81039e-02b5-49d7-b2d9-b533ac51340e');\n",
              "          const dataTable =\n",
              "            await google.colab.kernel.invokeFunction('convertToInteractive',\n",
              "                                                     [key], {});\n",
              "          if (!dataTable) return;\n",
              "\n",
              "          const docLinkHtml = 'Like what you see? Visit the ' +\n",
              "            '<a target=\"_blank\" href=https://colab.research.google.com/notebooks/data_table.ipynb>data table notebook</a>'\n",
              "            + ' to learn more about interactive tables.';\n",
              "          element.innerHTML = '';\n",
              "          dataTable['output_type'] = 'display_data';\n",
              "          await google.colab.output.renderOutput(dataTable, element);\n",
              "          const docLink = document.createElement('div');\n",
              "          docLink.innerHTML = docLinkHtml;\n",
              "          element.appendChild(docLink);\n",
              "        }\n",
              "      </script>\n",
              "    </div>\n",
              "  </div>\n",
              "  "
            ]
          },
          "metadata": {},
          "execution_count": 365
        }
      ],
      "source": [
        "df_final = df.loc[nodes_2_attack]\n",
        "df_final"
      ]
    },
    {
      "cell_type": "code",
      "execution_count": 366,
      "metadata": {
        "id": "iQptla3hoXFW"
      },
      "outputs": [],
      "source": [
        "c = 0\n",
        "for i in range(len(nodes_2_attack)):\n",
        "  if df_final.loc[nodes_2_attack[i]][0] == df_final.loc[nodes_2_attack[i]][1]:\n",
        "    c += 1\n",
        "target_accuracy = str(c * (100 / len(nodes_2_attack))) + '%'"
      ]
    },
    {
      "cell_type": "code",
      "source": [
        "print('Action: ' + global_action)\n",
        "print('Centrality: '+ global_centrality)\n",
        "print('Accuracy: ' + target_accuracy)"
      ],
      "metadata": {
        "colab": {
          "base_uri": "https://localhost:8080/"
        },
        "id": "W1VPRAAs9LhD",
        "outputId": "24a23402-19d9-4baf-8879-7f48afd4adf2"
      },
      "execution_count": 367,
      "outputs": [
        {
          "output_type": "stream",
          "name": "stdout",
          "text": [
            "Action: Adding ~100 edges\n",
            "Centrality: Eigenvector centrality\n",
            "Accuracy: 85.1063829787234%\n"
          ]
        }
      ]
    },
    {
      "cell_type": "code",
      "source": [
        "# confusion matrix of target nodes\n",
        "\n",
        "confusion_matrix(df_final['Predicted'], df_final['True'])"
      ],
      "metadata": {
        "colab": {
          "base_uri": "https://localhost:8080/"
        },
        "id": "p0-I_ykKrx5s",
        "outputId": "2409c655-9f29-4826-ae13-11b97d4ae5ac"
      },
      "execution_count": 368,
      "outputs": [
        {
          "output_type": "execute_result",
          "data": {
            "text/plain": [
              "array([[ 0,  0,  0,  0,  0,  0,  0],\n",
              "       [ 1,  5,  0,  1,  0,  0,  2],\n",
              "       [ 0,  0,  8,  0,  0,  0,  0],\n",
              "       [ 0,  0,  0, 12,  0,  0,  0],\n",
              "       [ 0,  0,  0,  0,  7,  0,  0],\n",
              "       [ 1,  0,  1,  0,  0,  2,  0],\n",
              "       [ 1,  0,  0,  0,  0,  0,  6]])"
            ]
          },
          "metadata": {},
          "execution_count": 368
        }
      ]
    },
    {
      "cell_type": "code",
      "source": [
        "# confusion matrix of the entire model\n",
        "\n",
        "confusion_matrix(node_predictions, node_subjects)"
      ],
      "metadata": {
        "colab": {
          "base_uri": "https://localhost:8080/"
        },
        "id": "ckGsO1WottRE",
        "outputId": "0e43cfe5-47e7-4538-ef6f-f0d0e43bb984"
      },
      "execution_count": 369,
      "outputs": [
        {
          "output_type": "execute_result",
          "data": {
            "text/plain": [
              "array([[262,   4,   9,   2,   1,   7,  18],\n",
              "       [  6, 396,   9,   1,  13,   4,   4],\n",
              "       [  7,   6, 726,  20,  11,   4,  25],\n",
              "       [  2,   3,  33, 394,   8,   1,  20],\n",
              "       [  2,   3,  13,   0, 176,   0,   8],\n",
              "       [ 10,   2,   7,   0,   1, 139,   9],\n",
              "       [  9,   4,  21,   9,   7,  25, 267]])"
            ]
          },
          "metadata": {},
          "execution_count": 369
        }
      ]
    }
  ],
  "metadata": {
    "colab": {
      "collapsed_sections": [
        "L1iB_467atdg",
        "rAkH4UDJatdh"
      ],
      "name": "adversarial_attack_node_classification.ipynb",
      "provenance": []
    },
    "kernelspec": {
      "display_name": "Python 3",
      "language": "python",
      "name": "python3"
    },
    "language_info": {
      "codemirror_mode": {
        "name": "ipython",
        "version": 3
      },
      "file_extension": ".py",
      "mimetype": "text/x-python",
      "name": "python",
      "nbconvert_exporter": "python",
      "pygments_lexer": "ipython3",
      "version": "3.6.9"
    }
  },
  "nbformat": 4,
  "nbformat_minor": 0
}